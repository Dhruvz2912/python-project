{
 "cells": [
  {
   "cell_type": "markdown",
   "id": "5bfb4b72",
   "metadata": {},
   "source": [
    "# Graded Project 2 - Python for Data Science"
   ]
  },
  {
   "cell_type": "markdown",
   "id": "ca91e6ef",
   "metadata": {},
   "source": [
    "## <font color='blue'> Problem Statement </font>\n",
    "###  Analyse & formulate clusters for E-commerce company using Unsupervised Learning\n",
    "- Customer segmentation is one of the most important marketing tools at your disposal, because it can help a business to better understand its target audience. This is because it groups customers based on common characteristics.\n",
    "- Segmentation can be based on the customer’s habits and lifestyle, in particular, their buying habits. Different age groups, for example, tend to spend their money in different ways, so brands need to be aware of who exactly is buying their product.\n",
    "- Segmentation also focuses more on the personality of the consumer, including their opinions, interests, reviews, and rating. Breaking down a large customer base into more manageable clusters, making it easier to identify your target audience and launch campaigns and promote the business to the most relevant people."
   ]
  },
  {
   "cell_type": "markdown",
   "id": "81f4d953",
   "metadata": {},
   "source": [
    "###  Project Objective\n",
    "Based on the given users and items data of an e-commerce company, segment the similar user and items into suitable clusters. Analyze the clusters and provide your insights to help the organization promote their business."
   ]
  },
  {
   "cell_type": "markdown",
   "id": "76cda349",
   "metadata": {},
   "source": [
    "###  Dataset Description:\n",
    "The dataset contains measurements of clothing fit from RentTheRunway. RentTheRunWay is a unique platform that allows women to rent clothes for various occasions. The collected data is of several categories. This dataset contains self-reported fit feedback from customers as well as other side information like reviews, ratings, product categories, catalog sizes, customers'\n",
    "measurements (etc.). The files provided are as follows:\n",
    "- renttherunway-1.csv – data file."
   ]
  },
  {
   "cell_type": "markdown",
   "id": "3e316175",
   "metadata": {},
   "source": [
    "## <font color='blue'> Load and explore data </font>"
   ]
  },
  {
   "cell_type": "markdown",
   "id": "1d1d3a9f",
   "metadata": {},
   "source": [
    "###  1. Import the required libraries and read the dataset."
   ]
  },
  {
   "cell_type": "code",
   "execution_count": 1,
   "id": "3cda5413",
   "metadata": {},
   "outputs": [],
   "source": [
    "## importing libraries \n",
    "\n",
    "import numpy as np\n",
    "import pandas as pd\n",
    "%matplotlib inline\n",
    "import matplotlib.pyplot as plt\n",
    "import seaborn as sns\n",
    "sns.set(style = \"ticks\")\n",
    "import warnings\n",
    "warnings.filterwarnings('ignore')\n",
    "\n",
    "import sklearn\n",
    "from sklearn.model_selection import train_test_split\n",
    "from sklearn.preprocessing import StandardScaler\n",
    "from sklearn.preprocessing import LabelEncoder\n",
    "\n",
    "from sklearn.decomposition import PCA\n",
    "from sklearn import preprocessing\n",
    "from sklearn.preprocessing import Normalizer\n",
    "from sklearn.cluster import KMeans\n",
    "from scipy.stats import zscore\n",
    "from scipy.spatial import distance\n",
    "from scipy.cluster.hierarchy import linkage, dendrogram, fcluster\n",
    "from sklearn.cluster import AgglomerativeClustering\n",
    "from sklearn.metrics import silhouette_score"
   ]
  },
  {
   "cell_type": "code",
   "execution_count": 2,
   "id": "0db67bf4",
   "metadata": {},
   "outputs": [
    {
     "data": {
      "text/html": [
       "<div>\n",
       "<style scoped>\n",
       "    .dataframe tbody tr th:only-of-type {\n",
       "        vertical-align: middle;\n",
       "    }\n",
       "\n",
       "    .dataframe tbody tr th {\n",
       "        vertical-align: top;\n",
       "    }\n",
       "\n",
       "    .dataframe thead th {\n",
       "        text-align: right;\n",
       "    }\n",
       "</style>\n",
       "<table border=\"1\" class=\"dataframe\">\n",
       "  <thead>\n",
       "    <tr style=\"text-align: right;\">\n",
       "      <th></th>\n",
       "      <th>Unnamed: 0</th>\n",
       "      <th>fit</th>\n",
       "      <th>user_id</th>\n",
       "      <th>bust size</th>\n",
       "      <th>item_id</th>\n",
       "      <th>weight</th>\n",
       "      <th>rating</th>\n",
       "      <th>rented for</th>\n",
       "      <th>review_text</th>\n",
       "      <th>body type</th>\n",
       "      <th>review_summary</th>\n",
       "      <th>category</th>\n",
       "      <th>height</th>\n",
       "      <th>size</th>\n",
       "      <th>age</th>\n",
       "      <th>review_date</th>\n",
       "    </tr>\n",
       "  </thead>\n",
       "  <tbody>\n",
       "    <tr>\n",
       "      <th>0</th>\n",
       "      <td>0</td>\n",
       "      <td>fit</td>\n",
       "      <td>420272</td>\n",
       "      <td>34d</td>\n",
       "      <td>2260466</td>\n",
       "      <td>137lbs</td>\n",
       "      <td>10.0</td>\n",
       "      <td>vacation</td>\n",
       "      <td>An adorable romper! Belt and zipper were a lit...</td>\n",
       "      <td>hourglass</td>\n",
       "      <td>So many compliments!</td>\n",
       "      <td>romper</td>\n",
       "      <td>5' 8\"</td>\n",
       "      <td>14</td>\n",
       "      <td>28.0</td>\n",
       "      <td>April 20, 2016</td>\n",
       "    </tr>\n",
       "    <tr>\n",
       "      <th>1</th>\n",
       "      <td>1</td>\n",
       "      <td>fit</td>\n",
       "      <td>273551</td>\n",
       "      <td>34b</td>\n",
       "      <td>153475</td>\n",
       "      <td>132lbs</td>\n",
       "      <td>10.0</td>\n",
       "      <td>other</td>\n",
       "      <td>I rented this dress for a photo shoot. The the...</td>\n",
       "      <td>straight &amp; narrow</td>\n",
       "      <td>I felt so glamourous!!!</td>\n",
       "      <td>gown</td>\n",
       "      <td>5' 6\"</td>\n",
       "      <td>12</td>\n",
       "      <td>36.0</td>\n",
       "      <td>June 18, 2013</td>\n",
       "    </tr>\n",
       "    <tr>\n",
       "      <th>2</th>\n",
       "      <td>2</td>\n",
       "      <td>fit</td>\n",
       "      <td>360448</td>\n",
       "      <td>NaN</td>\n",
       "      <td>1063761</td>\n",
       "      <td>NaN</td>\n",
       "      <td>10.0</td>\n",
       "      <td>party</td>\n",
       "      <td>This hugged in all the right places! It was a ...</td>\n",
       "      <td>NaN</td>\n",
       "      <td>It was a great time to celebrate the (almost) ...</td>\n",
       "      <td>sheath</td>\n",
       "      <td>5' 4\"</td>\n",
       "      <td>4</td>\n",
       "      <td>116.0</td>\n",
       "      <td>December 14, 2015</td>\n",
       "    </tr>\n",
       "    <tr>\n",
       "      <th>3</th>\n",
       "      <td>3</td>\n",
       "      <td>fit</td>\n",
       "      <td>909926</td>\n",
       "      <td>34c</td>\n",
       "      <td>126335</td>\n",
       "      <td>135lbs</td>\n",
       "      <td>8.0</td>\n",
       "      <td>formal affair</td>\n",
       "      <td>I rented this for my company's black tie award...</td>\n",
       "      <td>pear</td>\n",
       "      <td>Dress arrived on time and in perfect condition.</td>\n",
       "      <td>dress</td>\n",
       "      <td>5' 5\"</td>\n",
       "      <td>8</td>\n",
       "      <td>34.0</td>\n",
       "      <td>February 12, 2014</td>\n",
       "    </tr>\n",
       "    <tr>\n",
       "      <th>4</th>\n",
       "      <td>4</td>\n",
       "      <td>fit</td>\n",
       "      <td>151944</td>\n",
       "      <td>34b</td>\n",
       "      <td>616682</td>\n",
       "      <td>145lbs</td>\n",
       "      <td>10.0</td>\n",
       "      <td>wedding</td>\n",
       "      <td>I have always been petite in my upper body and...</td>\n",
       "      <td>athletic</td>\n",
       "      <td>Was in love with this dress !!!</td>\n",
       "      <td>gown</td>\n",
       "      <td>5' 9\"</td>\n",
       "      <td>12</td>\n",
       "      <td>27.0</td>\n",
       "      <td>September 26, 2016</td>\n",
       "    </tr>\n",
       "    <tr>\n",
       "      <th>...</th>\n",
       "      <td>...</td>\n",
       "      <td>...</td>\n",
       "      <td>...</td>\n",
       "      <td>...</td>\n",
       "      <td>...</td>\n",
       "      <td>...</td>\n",
       "      <td>...</td>\n",
       "      <td>...</td>\n",
       "      <td>...</td>\n",
       "      <td>...</td>\n",
       "      <td>...</td>\n",
       "      <td>...</td>\n",
       "      <td>...</td>\n",
       "      <td>...</td>\n",
       "      <td>...</td>\n",
       "      <td>...</td>\n",
       "    </tr>\n",
       "    <tr>\n",
       "      <th>192539</th>\n",
       "      <td>192539</td>\n",
       "      <td>fit</td>\n",
       "      <td>66386</td>\n",
       "      <td>34dd</td>\n",
       "      <td>2252812</td>\n",
       "      <td>140lbs</td>\n",
       "      <td>10.0</td>\n",
       "      <td>work</td>\n",
       "      <td>Fit like a glove!</td>\n",
       "      <td>hourglass</td>\n",
       "      <td>LOVE IT!!! First Item Im thinking of buying!</td>\n",
       "      <td>jumpsuit</td>\n",
       "      <td>5' 9\"</td>\n",
       "      <td>8</td>\n",
       "      <td>42.0</td>\n",
       "      <td>May 18, 2016</td>\n",
       "    </tr>\n",
       "    <tr>\n",
       "      <th>192540</th>\n",
       "      <td>192540</td>\n",
       "      <td>fit</td>\n",
       "      <td>118398</td>\n",
       "      <td>32c</td>\n",
       "      <td>682043</td>\n",
       "      <td>100lbs</td>\n",
       "      <td>10.0</td>\n",
       "      <td>work</td>\n",
       "      <td>The pattern contrast on this dress is really s...</td>\n",
       "      <td>petite</td>\n",
       "      <td>LOVE it!</td>\n",
       "      <td>dress</td>\n",
       "      <td>5' 1\"</td>\n",
       "      <td>4</td>\n",
       "      <td>29.0</td>\n",
       "      <td>September 30, 2016</td>\n",
       "    </tr>\n",
       "    <tr>\n",
       "      <th>192541</th>\n",
       "      <td>192541</td>\n",
       "      <td>fit</td>\n",
       "      <td>47002</td>\n",
       "      <td>36a</td>\n",
       "      <td>683251</td>\n",
       "      <td>135lbs</td>\n",
       "      <td>6.0</td>\n",
       "      <td>everyday</td>\n",
       "      <td>Like the other DVF wraps, the fit on this is f...</td>\n",
       "      <td>straight &amp; narrow</td>\n",
       "      <td>Loud patterning, flattering fit</td>\n",
       "      <td>dress</td>\n",
       "      <td>5' 8\"</td>\n",
       "      <td>8</td>\n",
       "      <td>31.0</td>\n",
       "      <td>March 4, 2016</td>\n",
       "    </tr>\n",
       "    <tr>\n",
       "      <th>192542</th>\n",
       "      <td>192542</td>\n",
       "      <td>fit</td>\n",
       "      <td>961120</td>\n",
       "      <td>36c</td>\n",
       "      <td>126335</td>\n",
       "      <td>165lbs</td>\n",
       "      <td>10.0</td>\n",
       "      <td>wedding</td>\n",
       "      <td>This dress was PERFECTION.  it looked incredib...</td>\n",
       "      <td>pear</td>\n",
       "      <td>loved this dress it was comfortable and photog...</td>\n",
       "      <td>dress</td>\n",
       "      <td>5' 6\"</td>\n",
       "      <td>16</td>\n",
       "      <td>31.0</td>\n",
       "      <td>November 25, 2015</td>\n",
       "    </tr>\n",
       "    <tr>\n",
       "      <th>192543</th>\n",
       "      <td>192543</td>\n",
       "      <td>fit</td>\n",
       "      <td>123612</td>\n",
       "      <td>36b</td>\n",
       "      <td>127865</td>\n",
       "      <td>155lbs</td>\n",
       "      <td>10.0</td>\n",
       "      <td>wedding</td>\n",
       "      <td>This dress was wonderful! I had originally pla...</td>\n",
       "      <td>athletic</td>\n",
       "      <td>I wore this to a beautiful black tie optional ...</td>\n",
       "      <td>gown</td>\n",
       "      <td>5' 6\"</td>\n",
       "      <td>16</td>\n",
       "      <td>30.0</td>\n",
       "      <td>August 29, 2017</td>\n",
       "    </tr>\n",
       "  </tbody>\n",
       "</table>\n",
       "<p>192544 rows × 16 columns</p>\n",
       "</div>"
      ],
      "text/plain": [
       "        Unnamed: 0  fit  user_id bust size  item_id  weight  rating  \\\n",
       "0                0  fit   420272       34d  2260466  137lbs    10.0   \n",
       "1                1  fit   273551       34b   153475  132lbs    10.0   \n",
       "2                2  fit   360448       NaN  1063761     NaN    10.0   \n",
       "3                3  fit   909926       34c   126335  135lbs     8.0   \n",
       "4                4  fit   151944       34b   616682  145lbs    10.0   \n",
       "...            ...  ...      ...       ...      ...     ...     ...   \n",
       "192539      192539  fit    66386      34dd  2252812  140lbs    10.0   \n",
       "192540      192540  fit   118398       32c   682043  100lbs    10.0   \n",
       "192541      192541  fit    47002       36a   683251  135lbs     6.0   \n",
       "192542      192542  fit   961120       36c   126335  165lbs    10.0   \n",
       "192543      192543  fit   123612       36b   127865  155lbs    10.0   \n",
       "\n",
       "           rented for                                        review_text  \\\n",
       "0            vacation  An adorable romper! Belt and zipper were a lit...   \n",
       "1               other  I rented this dress for a photo shoot. The the...   \n",
       "2               party  This hugged in all the right places! It was a ...   \n",
       "3       formal affair  I rented this for my company's black tie award...   \n",
       "4             wedding  I have always been petite in my upper body and...   \n",
       "...               ...                                                ...   \n",
       "192539           work                                  Fit like a glove!   \n",
       "192540           work  The pattern contrast on this dress is really s...   \n",
       "192541       everyday  Like the other DVF wraps, the fit on this is f...   \n",
       "192542        wedding  This dress was PERFECTION.  it looked incredib...   \n",
       "192543        wedding  This dress was wonderful! I had originally pla...   \n",
       "\n",
       "                body type                                     review_summary  \\\n",
       "0               hourglass                               So many compliments!   \n",
       "1       straight & narrow                            I felt so glamourous!!!   \n",
       "2                     NaN  It was a great time to celebrate the (almost) ...   \n",
       "3                    pear   Dress arrived on time and in perfect condition.    \n",
       "4                athletic                    Was in love with this dress !!!   \n",
       "...                   ...                                                ...   \n",
       "192539          hourglass       LOVE IT!!! First Item Im thinking of buying!   \n",
       "192540             petite                                           LOVE it!   \n",
       "192541  straight & narrow                    Loud patterning, flattering fit   \n",
       "192542               pear  loved this dress it was comfortable and photog...   \n",
       "192543           athletic  I wore this to a beautiful black tie optional ...   \n",
       "\n",
       "        category height  size    age         review_date  \n",
       "0         romper  5' 8\"    14   28.0      April 20, 2016  \n",
       "1           gown  5' 6\"    12   36.0       June 18, 2013  \n",
       "2         sheath  5' 4\"     4  116.0   December 14, 2015  \n",
       "3          dress  5' 5\"     8   34.0   February 12, 2014  \n",
       "4           gown  5' 9\"    12   27.0  September 26, 2016  \n",
       "...          ...    ...   ...    ...                 ...  \n",
       "192539  jumpsuit  5' 9\"     8   42.0        May 18, 2016  \n",
       "192540     dress  5' 1\"     4   29.0  September 30, 2016  \n",
       "192541     dress  5' 8\"     8   31.0       March 4, 2016  \n",
       "192542     dress  5' 6\"    16   31.0   November 25, 2015  \n",
       "192543      gown  5' 6\"    16   30.0     August 29, 2017  \n",
       "\n",
       "[192544 rows x 16 columns]"
      ]
     },
     "execution_count": 2,
     "metadata": {},
     "output_type": "execute_result"
    }
   ],
   "source": [
    "## reading dataset\n",
    "\n",
    "data = pd.read_csv(r'renttherunway.csv')\n",
    "\n",
    "## setting max columns to none\n",
    "pd.set_option('display.max_columns', None)\n",
    "\n",
    "\n",
    "data"
   ]
  },
  {
   "cell_type": "markdown",
   "id": "8514c94d",
   "metadata": {},
   "source": [
    "###  2. Check the first few samples, shape, info of the data and try to familiarize yourself with different features."
   ]
  },
  {
   "cell_type": "code",
   "execution_count": 3,
   "id": "8928ef77",
   "metadata": {},
   "outputs": [
    {
     "data": {
      "text/html": [
       "<div>\n",
       "<style scoped>\n",
       "    .dataframe tbody tr th:only-of-type {\n",
       "        vertical-align: middle;\n",
       "    }\n",
       "\n",
       "    .dataframe tbody tr th {\n",
       "        vertical-align: top;\n",
       "    }\n",
       "\n",
       "    .dataframe thead th {\n",
       "        text-align: right;\n",
       "    }\n",
       "</style>\n",
       "<table border=\"1\" class=\"dataframe\">\n",
       "  <thead>\n",
       "    <tr style=\"text-align: right;\">\n",
       "      <th></th>\n",
       "      <th>Unnamed: 0</th>\n",
       "      <th>fit</th>\n",
       "      <th>user_id</th>\n",
       "      <th>bust size</th>\n",
       "      <th>item_id</th>\n",
       "      <th>weight</th>\n",
       "      <th>rating</th>\n",
       "      <th>rented for</th>\n",
       "      <th>review_text</th>\n",
       "      <th>body type</th>\n",
       "      <th>review_summary</th>\n",
       "      <th>category</th>\n",
       "      <th>height</th>\n",
       "      <th>size</th>\n",
       "      <th>age</th>\n",
       "      <th>review_date</th>\n",
       "    </tr>\n",
       "  </thead>\n",
       "  <tbody>\n",
       "    <tr>\n",
       "      <th>0</th>\n",
       "      <td>0</td>\n",
       "      <td>fit</td>\n",
       "      <td>420272</td>\n",
       "      <td>34d</td>\n",
       "      <td>2260466</td>\n",
       "      <td>137lbs</td>\n",
       "      <td>10.0</td>\n",
       "      <td>vacation</td>\n",
       "      <td>An adorable romper! Belt and zipper were a lit...</td>\n",
       "      <td>hourglass</td>\n",
       "      <td>So many compliments!</td>\n",
       "      <td>romper</td>\n",
       "      <td>5' 8\"</td>\n",
       "      <td>14</td>\n",
       "      <td>28.0</td>\n",
       "      <td>April 20, 2016</td>\n",
       "    </tr>\n",
       "    <tr>\n",
       "      <th>1</th>\n",
       "      <td>1</td>\n",
       "      <td>fit</td>\n",
       "      <td>273551</td>\n",
       "      <td>34b</td>\n",
       "      <td>153475</td>\n",
       "      <td>132lbs</td>\n",
       "      <td>10.0</td>\n",
       "      <td>other</td>\n",
       "      <td>I rented this dress for a photo shoot. The the...</td>\n",
       "      <td>straight &amp; narrow</td>\n",
       "      <td>I felt so glamourous!!!</td>\n",
       "      <td>gown</td>\n",
       "      <td>5' 6\"</td>\n",
       "      <td>12</td>\n",
       "      <td>36.0</td>\n",
       "      <td>June 18, 2013</td>\n",
       "    </tr>\n",
       "    <tr>\n",
       "      <th>2</th>\n",
       "      <td>2</td>\n",
       "      <td>fit</td>\n",
       "      <td>360448</td>\n",
       "      <td>NaN</td>\n",
       "      <td>1063761</td>\n",
       "      <td>NaN</td>\n",
       "      <td>10.0</td>\n",
       "      <td>party</td>\n",
       "      <td>This hugged in all the right places! It was a ...</td>\n",
       "      <td>NaN</td>\n",
       "      <td>It was a great time to celebrate the (almost) ...</td>\n",
       "      <td>sheath</td>\n",
       "      <td>5' 4\"</td>\n",
       "      <td>4</td>\n",
       "      <td>116.0</td>\n",
       "      <td>December 14, 2015</td>\n",
       "    </tr>\n",
       "    <tr>\n",
       "      <th>3</th>\n",
       "      <td>3</td>\n",
       "      <td>fit</td>\n",
       "      <td>909926</td>\n",
       "      <td>34c</td>\n",
       "      <td>126335</td>\n",
       "      <td>135lbs</td>\n",
       "      <td>8.0</td>\n",
       "      <td>formal affair</td>\n",
       "      <td>I rented this for my company's black tie award...</td>\n",
       "      <td>pear</td>\n",
       "      <td>Dress arrived on time and in perfect condition.</td>\n",
       "      <td>dress</td>\n",
       "      <td>5' 5\"</td>\n",
       "      <td>8</td>\n",
       "      <td>34.0</td>\n",
       "      <td>February 12, 2014</td>\n",
       "    </tr>\n",
       "    <tr>\n",
       "      <th>4</th>\n",
       "      <td>4</td>\n",
       "      <td>fit</td>\n",
       "      <td>151944</td>\n",
       "      <td>34b</td>\n",
       "      <td>616682</td>\n",
       "      <td>145lbs</td>\n",
       "      <td>10.0</td>\n",
       "      <td>wedding</td>\n",
       "      <td>I have always been petite in my upper body and...</td>\n",
       "      <td>athletic</td>\n",
       "      <td>Was in love with this dress !!!</td>\n",
       "      <td>gown</td>\n",
       "      <td>5' 9\"</td>\n",
       "      <td>12</td>\n",
       "      <td>27.0</td>\n",
       "      <td>September 26, 2016</td>\n",
       "    </tr>\n",
       "  </tbody>\n",
       "</table>\n",
       "</div>"
      ],
      "text/plain": [
       "   Unnamed: 0  fit  user_id bust size  item_id  weight  rating     rented for  \\\n",
       "0           0  fit   420272       34d  2260466  137lbs    10.0       vacation   \n",
       "1           1  fit   273551       34b   153475  132lbs    10.0          other   \n",
       "2           2  fit   360448       NaN  1063761     NaN    10.0          party   \n",
       "3           3  fit   909926       34c   126335  135lbs     8.0  formal affair   \n",
       "4           4  fit   151944       34b   616682  145lbs    10.0        wedding   \n",
       "\n",
       "                                         review_text          body type  \\\n",
       "0  An adorable romper! Belt and zipper were a lit...          hourglass   \n",
       "1  I rented this dress for a photo shoot. The the...  straight & narrow   \n",
       "2  This hugged in all the right places! It was a ...                NaN   \n",
       "3  I rented this for my company's black tie award...               pear   \n",
       "4  I have always been petite in my upper body and...           athletic   \n",
       "\n",
       "                                      review_summary category height  size  \\\n",
       "0                               So many compliments!   romper  5' 8\"    14   \n",
       "1                            I felt so glamourous!!!     gown  5' 6\"    12   \n",
       "2  It was a great time to celebrate the (almost) ...   sheath  5' 4\"     4   \n",
       "3   Dress arrived on time and in perfect condition.     dress  5' 5\"     8   \n",
       "4                    Was in love with this dress !!!     gown  5' 9\"    12   \n",
       "\n",
       "     age         review_date  \n",
       "0   28.0      April 20, 2016  \n",
       "1   36.0       June 18, 2013  \n",
       "2  116.0   December 14, 2015  \n",
       "3   34.0   February 12, 2014  \n",
       "4   27.0  September 26, 2016  "
      ]
     },
     "execution_count": 3,
     "metadata": {},
     "output_type": "execute_result"
    }
   ],
   "source": [
    "## fetching first 5 records\n",
    "\n",
    "data.head()"
   ]
  },
  {
   "cell_type": "code",
   "execution_count": 4,
   "id": "ca204228",
   "metadata": {},
   "outputs": [
    {
     "name": "stdout",
     "output_type": "stream",
     "text": [
      "<class 'pandas.core.frame.DataFrame'>\n",
      "RangeIndex: 192544 entries, 0 to 192543\n",
      "Data columns (total 16 columns):\n",
      " #   Column          Non-Null Count   Dtype  \n",
      "---  ------          --------------   -----  \n",
      " 0   Unnamed: 0      192544 non-null  int64  \n",
      " 1   fit             192544 non-null  object \n",
      " 2   user_id         192544 non-null  int64  \n",
      " 3   bust size       174133 non-null  object \n",
      " 4   item_id         192544 non-null  int64  \n",
      " 5   weight          162562 non-null  object \n",
      " 6   rating          192462 non-null  float64\n",
      " 7   rented for      192534 non-null  object \n",
      " 8   review_text     192476 non-null  object \n",
      " 9   body type       177907 non-null  object \n",
      " 10  review_summary  192197 non-null  object \n",
      " 11  category        192544 non-null  object \n",
      " 12  height          191867 non-null  object \n",
      " 13  size            192544 non-null  int64  \n",
      " 14  age             191584 non-null  float64\n",
      " 15  review_date     192544 non-null  object \n",
      "dtypes: float64(2), int64(4), object(10)\n",
      "memory usage: 23.5+ MB\n"
     ]
    }
   ],
   "source": [
    "## fetching basic information about the dataset\n",
    "\n",
    "data.info()"
   ]
  },
  {
   "cell_type": "code",
   "execution_count": 5,
   "id": "022abd5d",
   "metadata": {},
   "outputs": [
    {
     "data": {
      "text/plain": [
       "(192544, 16)"
      ]
     },
     "execution_count": 5,
     "metadata": {},
     "output_type": "execute_result"
    }
   ],
   "source": [
    "## fetching shape of dataframe\n",
    "\n",
    "data.shape"
   ]
  },
  {
   "cell_type": "code",
   "execution_count": 6,
   "id": "41516d97",
   "metadata": {},
   "outputs": [
    {
     "data": {
      "text/plain": [
       "3080704"
      ]
     },
     "execution_count": 6,
     "metadata": {},
     "output_type": "execute_result"
    }
   ],
   "source": [
    "## fetching size of data\n",
    "\n",
    "data.size"
   ]
  },
  {
   "cell_type": "code",
   "execution_count": 7,
   "id": "e453daeb",
   "metadata": {},
   "outputs": [
    {
     "data": {
      "text/plain": [
       "2"
      ]
     },
     "execution_count": 7,
     "metadata": {},
     "output_type": "execute_result"
    }
   ],
   "source": [
    "## fetching dimension of dataframe\n",
    "\n",
    "data.ndim"
   ]
  },
  {
   "cell_type": "code",
   "execution_count": 8,
   "id": "ef392e8b",
   "metadata": {},
   "outputs": [
    {
     "data": {
      "text/plain": [
       "1"
      ]
     },
     "execution_count": 8,
     "metadata": {},
     "output_type": "execute_result"
    }
   ],
   "source": [
    "## fetching dimension of series in the dataframe\n",
    "\n",
    "data[\"fit\"].ndim"
   ]
  },
  {
   "cell_type": "code",
   "execution_count": 9,
   "id": "3a79fcca",
   "metadata": {},
   "outputs": [
    {
     "data": {
      "text/html": [
       "<div>\n",
       "<style scoped>\n",
       "    .dataframe tbody tr th:only-of-type {\n",
       "        vertical-align: middle;\n",
       "    }\n",
       "\n",
       "    .dataframe tbody tr th {\n",
       "        vertical-align: top;\n",
       "    }\n",
       "\n",
       "    .dataframe thead th {\n",
       "        text-align: right;\n",
       "    }\n",
       "</style>\n",
       "<table border=\"1\" class=\"dataframe\">\n",
       "  <thead>\n",
       "    <tr style=\"text-align: right;\">\n",
       "      <th></th>\n",
       "      <th>Unnamed: 0</th>\n",
       "      <th>user_id</th>\n",
       "      <th>item_id</th>\n",
       "      <th>rating</th>\n",
       "      <th>size</th>\n",
       "      <th>age</th>\n",
       "    </tr>\n",
       "  </thead>\n",
       "  <tbody>\n",
       "    <tr>\n",
       "      <th>count</th>\n",
       "      <td>192544.000000</td>\n",
       "      <td>192544.000000</td>\n",
       "      <td>1.925440e+05</td>\n",
       "      <td>192462.000000</td>\n",
       "      <td>192544.000000</td>\n",
       "      <td>191584.000000</td>\n",
       "    </tr>\n",
       "    <tr>\n",
       "      <th>mean</th>\n",
       "      <td>96271.500000</td>\n",
       "      <td>499494.100149</td>\n",
       "      <td>1.045684e+06</td>\n",
       "      <td>9.092371</td>\n",
       "      <td>12.245175</td>\n",
       "      <td>33.871017</td>\n",
       "    </tr>\n",
       "    <tr>\n",
       "      <th>std</th>\n",
       "      <td>55582.809453</td>\n",
       "      <td>289059.719328</td>\n",
       "      <td>8.053148e+05</td>\n",
       "      <td>1.430044</td>\n",
       "      <td>8.494877</td>\n",
       "      <td>8.058083</td>\n",
       "    </tr>\n",
       "    <tr>\n",
       "      <th>min</th>\n",
       "      <td>0.000000</td>\n",
       "      <td>9.000000</td>\n",
       "      <td>1.233730e+05</td>\n",
       "      <td>2.000000</td>\n",
       "      <td>0.000000</td>\n",
       "      <td>0.000000</td>\n",
       "    </tr>\n",
       "    <tr>\n",
       "      <th>25%</th>\n",
       "      <td>48135.750000</td>\n",
       "      <td>250654.250000</td>\n",
       "      <td>1.950760e+05</td>\n",
       "      <td>8.000000</td>\n",
       "      <td>8.000000</td>\n",
       "      <td>29.000000</td>\n",
       "    </tr>\n",
       "    <tr>\n",
       "      <th>50%</th>\n",
       "      <td>96271.500000</td>\n",
       "      <td>499419.000000</td>\n",
       "      <td>9.483960e+05</td>\n",
       "      <td>10.000000</td>\n",
       "      <td>12.000000</td>\n",
       "      <td>32.000000</td>\n",
       "    </tr>\n",
       "    <tr>\n",
       "      <th>75%</th>\n",
       "      <td>144407.250000</td>\n",
       "      <td>750974.000000</td>\n",
       "      <td>1.678888e+06</td>\n",
       "      <td>10.000000</td>\n",
       "      <td>16.000000</td>\n",
       "      <td>37.000000</td>\n",
       "    </tr>\n",
       "    <tr>\n",
       "      <th>max</th>\n",
       "      <td>192543.000000</td>\n",
       "      <td>999997.000000</td>\n",
       "      <td>2.966087e+06</td>\n",
       "      <td>10.000000</td>\n",
       "      <td>58.000000</td>\n",
       "      <td>117.000000</td>\n",
       "    </tr>\n",
       "  </tbody>\n",
       "</table>\n",
       "</div>"
      ],
      "text/plain": [
       "          Unnamed: 0        user_id       item_id         rating  \\\n",
       "count  192544.000000  192544.000000  1.925440e+05  192462.000000   \n",
       "mean    96271.500000  499494.100149  1.045684e+06       9.092371   \n",
       "std     55582.809453  289059.719328  8.053148e+05       1.430044   \n",
       "min         0.000000       9.000000  1.233730e+05       2.000000   \n",
       "25%     48135.750000  250654.250000  1.950760e+05       8.000000   \n",
       "50%     96271.500000  499419.000000  9.483960e+05      10.000000   \n",
       "75%    144407.250000  750974.000000  1.678888e+06      10.000000   \n",
       "max    192543.000000  999997.000000  2.966087e+06      10.000000   \n",
       "\n",
       "                size            age  \n",
       "count  192544.000000  191584.000000  \n",
       "mean       12.245175      33.871017  \n",
       "std         8.494877       8.058083  \n",
       "min         0.000000       0.000000  \n",
       "25%         8.000000      29.000000  \n",
       "50%        12.000000      32.000000  \n",
       "75%        16.000000      37.000000  \n",
       "max        58.000000     117.000000  "
      ]
     },
     "execution_count": 9,
     "metadata": {},
     "output_type": "execute_result"
    }
   ],
   "source": [
    "## checking the statistical summary of data\n",
    "\n",
    "data.describe()"
   ]
  },
  {
   "cell_type": "code",
   "execution_count": 10,
   "id": "c1ff71e3",
   "metadata": {
    "scrolled": true
   },
   "outputs": [
    {
     "data": {
      "text/html": [
       "<div>\n",
       "<style scoped>\n",
       "    .dataframe tbody tr th:only-of-type {\n",
       "        vertical-align: middle;\n",
       "    }\n",
       "\n",
       "    .dataframe tbody tr th {\n",
       "        vertical-align: top;\n",
       "    }\n",
       "\n",
       "    .dataframe thead th {\n",
       "        text-align: right;\n",
       "    }\n",
       "</style>\n",
       "<table border=\"1\" class=\"dataframe\">\n",
       "  <thead>\n",
       "    <tr style=\"text-align: right;\">\n",
       "      <th></th>\n",
       "      <th>fit</th>\n",
       "      <th>bust size</th>\n",
       "      <th>weight</th>\n",
       "      <th>rented for</th>\n",
       "      <th>review_text</th>\n",
       "      <th>body type</th>\n",
       "      <th>review_summary</th>\n",
       "      <th>category</th>\n",
       "      <th>height</th>\n",
       "      <th>review_date</th>\n",
       "    </tr>\n",
       "  </thead>\n",
       "  <tbody>\n",
       "    <tr>\n",
       "      <th>count</th>\n",
       "      <td>192544</td>\n",
       "      <td>174133</td>\n",
       "      <td>162562</td>\n",
       "      <td>192534</td>\n",
       "      <td>192476</td>\n",
       "      <td>177907</td>\n",
       "      <td>192197</td>\n",
       "      <td>192544</td>\n",
       "      <td>191867</td>\n",
       "      <td>192544</td>\n",
       "    </tr>\n",
       "    <tr>\n",
       "      <th>unique</th>\n",
       "      <td>3</td>\n",
       "      <td>106</td>\n",
       "      <td>190</td>\n",
       "      <td>9</td>\n",
       "      <td>191026</td>\n",
       "      <td>7</td>\n",
       "      <td>154735</td>\n",
       "      <td>68</td>\n",
       "      <td>24</td>\n",
       "      <td>2274</td>\n",
       "    </tr>\n",
       "    <tr>\n",
       "      <th>top</th>\n",
       "      <td>fit</td>\n",
       "      <td>34b</td>\n",
       "      <td>130lbs</td>\n",
       "      <td>wedding</td>\n",
       "      <td>.</td>\n",
       "      <td>hourglass</td>\n",
       "      <td>Stylist Review</td>\n",
       "      <td>dress</td>\n",
       "      <td>5' 4\"</td>\n",
       "      <td>June 15, 2016</td>\n",
       "    </tr>\n",
       "    <tr>\n",
       "      <th>freq</th>\n",
       "      <td>142058</td>\n",
       "      <td>27285</td>\n",
       "      <td>14370</td>\n",
       "      <td>57784</td>\n",
       "      <td>63</td>\n",
       "      <td>55349</td>\n",
       "      <td>977</td>\n",
       "      <td>92884</td>\n",
       "      <td>28012</td>\n",
       "      <td>844</td>\n",
       "    </tr>\n",
       "  </tbody>\n",
       "</table>\n",
       "</div>"
      ],
      "text/plain": [
       "           fit bust size  weight rented for review_text  body type  \\\n",
       "count   192544    174133  162562     192534      192476     177907   \n",
       "unique       3       106     190          9      191026          7   \n",
       "top        fit       34b  130lbs    wedding           .  hourglass   \n",
       "freq    142058     27285   14370      57784          63      55349   \n",
       "\n",
       "        review_summary category  height    review_date  \n",
       "count           192197   192544  191867         192544  \n",
       "unique          154735       68      24           2274  \n",
       "top     Stylist Review    dress   5' 4\"  June 15, 2016  \n",
       "freq               977    92884   28012            844  "
      ]
     },
     "execution_count": 10,
     "metadata": {},
     "output_type": "execute_result"
    }
   ],
   "source": [
    "## checking the statistical summary of data -- for object type\n",
    "\n",
    "data.describe(include = 'O')"
   ]
  },
  {
   "cell_type": "markdown",
   "id": "d5a36371",
   "metadata": {},
   "source": [
    "#### Inferences:\n",
    "-     There are 192544 entries and 16 columns in the dataset\n",
    "-     It consists of integer, float and object type of data\n",
    "-     Entire size of data is: (192544 x 16) = 3080704\n",
    "-     The dataframe is 2 dimentional (columns and rows); The entries of the column are 1 dimentional data\n",
    "-     It is evident that there are some null entries also in some columns"
   ]
  },
  {
   "cell_type": "markdown",
   "id": "075bc647",
   "metadata": {},
   "source": [
    "## <font color='blue'> Data cleansing and Exploratory data analysis </font>"
   ]
  },
  {
   "cell_type": "markdown",
   "id": "a51e5b3c",
   "metadata": {},
   "source": [
    "###  3. Check if there are any duplicate records in the dataset? If any, drop them."
   ]
  },
  {
   "cell_type": "code",
   "execution_count": 11,
   "id": "ad0d76d4",
   "metadata": {},
   "outputs": [
    {
     "data": {
      "text/html": [
       "<div>\n",
       "<style scoped>\n",
       "    .dataframe tbody tr th:only-of-type {\n",
       "        vertical-align: middle;\n",
       "    }\n",
       "\n",
       "    .dataframe tbody tr th {\n",
       "        vertical-align: top;\n",
       "    }\n",
       "\n",
       "    .dataframe thead th {\n",
       "        text-align: right;\n",
       "    }\n",
       "</style>\n",
       "<table border=\"1\" class=\"dataframe\">\n",
       "  <thead>\n",
       "    <tr style=\"text-align: right;\">\n",
       "      <th></th>\n",
       "      <th>Unnamed: 0</th>\n",
       "      <th>fit</th>\n",
       "      <th>user_id</th>\n",
       "      <th>bust size</th>\n",
       "      <th>item_id</th>\n",
       "      <th>weight</th>\n",
       "      <th>rating</th>\n",
       "      <th>rented for</th>\n",
       "      <th>review_text</th>\n",
       "      <th>body type</th>\n",
       "      <th>review_summary</th>\n",
       "      <th>category</th>\n",
       "      <th>height</th>\n",
       "      <th>size</th>\n",
       "      <th>age</th>\n",
       "      <th>review_date</th>\n",
       "    </tr>\n",
       "  </thead>\n",
       "  <tbody>\n",
       "  </tbody>\n",
       "</table>\n",
       "</div>"
      ],
      "text/plain": [
       "Empty DataFrame\n",
       "Columns: [Unnamed: 0, fit, user_id, bust size, item_id, weight, rating, rented for, review_text, body type, review_summary, category, height, size, age, review_date]\n",
       "Index: []"
      ]
     },
     "execution_count": 11,
     "metadata": {},
     "output_type": "execute_result"
    }
   ],
   "source": [
    "## getting duplicate records in the dataset\n",
    "\n",
    "data[data.duplicated()]"
   ]
  },
  {
   "cell_type": "code",
   "execution_count": 12,
   "id": "e2653b7b",
   "metadata": {},
   "outputs": [
    {
     "data": {
      "text/plain": [
       "(0, 16)"
      ]
     },
     "execution_count": 12,
     "metadata": {},
     "output_type": "execute_result"
    }
   ],
   "source": [
    "## checking the shape of duplicate records in dataset\n",
    "\n",
    "data[data.duplicated()].shape"
   ]
  },
  {
   "cell_type": "markdown",
   "id": "d7f422d2",
   "metadata": {},
   "source": [
    "#### Inferences:\n",
    "- From the above result, we can observe that there are no duplicate records found. Hence no record is dropped from the dataset"
   ]
  },
  {
   "cell_type": "markdown",
   "id": "7d35efba",
   "metadata": {},
   "source": [
    "###  4. Drop the columns which you think redundant for the analysis."
   ]
  },
  {
   "cell_type": "code",
   "execution_count": 13,
   "id": "76af4324",
   "metadata": {},
   "outputs": [
    {
     "data": {
      "text/html": [
       "<div>\n",
       "<style scoped>\n",
       "    .dataframe tbody tr th:only-of-type {\n",
       "        vertical-align: middle;\n",
       "    }\n",
       "\n",
       "    .dataframe tbody tr th {\n",
       "        vertical-align: top;\n",
       "    }\n",
       "\n",
       "    .dataframe thead th {\n",
       "        text-align: right;\n",
       "    }\n",
       "</style>\n",
       "<table border=\"1\" class=\"dataframe\">\n",
       "  <thead>\n",
       "    <tr style=\"text-align: right;\">\n",
       "      <th></th>\n",
       "      <th>fit</th>\n",
       "      <th>bust size</th>\n",
       "      <th>weight</th>\n",
       "      <th>rating</th>\n",
       "      <th>rented for</th>\n",
       "      <th>body type</th>\n",
       "      <th>category</th>\n",
       "      <th>height</th>\n",
       "      <th>size</th>\n",
       "      <th>age</th>\n",
       "      <th>review_date</th>\n",
       "    </tr>\n",
       "  </thead>\n",
       "  <tbody>\n",
       "    <tr>\n",
       "      <th>0</th>\n",
       "      <td>fit</td>\n",
       "      <td>34d</td>\n",
       "      <td>137lbs</td>\n",
       "      <td>10.0</td>\n",
       "      <td>vacation</td>\n",
       "      <td>hourglass</td>\n",
       "      <td>romper</td>\n",
       "      <td>5' 8\"</td>\n",
       "      <td>14</td>\n",
       "      <td>28.0</td>\n",
       "      <td>April 20, 2016</td>\n",
       "    </tr>\n",
       "    <tr>\n",
       "      <th>1</th>\n",
       "      <td>fit</td>\n",
       "      <td>34b</td>\n",
       "      <td>132lbs</td>\n",
       "      <td>10.0</td>\n",
       "      <td>other</td>\n",
       "      <td>straight &amp; narrow</td>\n",
       "      <td>gown</td>\n",
       "      <td>5' 6\"</td>\n",
       "      <td>12</td>\n",
       "      <td>36.0</td>\n",
       "      <td>June 18, 2013</td>\n",
       "    </tr>\n",
       "    <tr>\n",
       "      <th>2</th>\n",
       "      <td>fit</td>\n",
       "      <td>NaN</td>\n",
       "      <td>NaN</td>\n",
       "      <td>10.0</td>\n",
       "      <td>party</td>\n",
       "      <td>NaN</td>\n",
       "      <td>sheath</td>\n",
       "      <td>5' 4\"</td>\n",
       "      <td>4</td>\n",
       "      <td>116.0</td>\n",
       "      <td>December 14, 2015</td>\n",
       "    </tr>\n",
       "    <tr>\n",
       "      <th>3</th>\n",
       "      <td>fit</td>\n",
       "      <td>34c</td>\n",
       "      <td>135lbs</td>\n",
       "      <td>8.0</td>\n",
       "      <td>formal affair</td>\n",
       "      <td>pear</td>\n",
       "      <td>dress</td>\n",
       "      <td>5' 5\"</td>\n",
       "      <td>8</td>\n",
       "      <td>34.0</td>\n",
       "      <td>February 12, 2014</td>\n",
       "    </tr>\n",
       "    <tr>\n",
       "      <th>4</th>\n",
       "      <td>fit</td>\n",
       "      <td>34b</td>\n",
       "      <td>145lbs</td>\n",
       "      <td>10.0</td>\n",
       "      <td>wedding</td>\n",
       "      <td>athletic</td>\n",
       "      <td>gown</td>\n",
       "      <td>5' 9\"</td>\n",
       "      <td>12</td>\n",
       "      <td>27.0</td>\n",
       "      <td>September 26, 2016</td>\n",
       "    </tr>\n",
       "  </tbody>\n",
       "</table>\n",
       "</div>"
      ],
      "text/plain": [
       "   fit bust size  weight  rating     rented for          body type category  \\\n",
       "0  fit       34d  137lbs    10.0       vacation          hourglass   romper   \n",
       "1  fit       34b  132lbs    10.0          other  straight & narrow     gown   \n",
       "2  fit       NaN     NaN    10.0          party                NaN   sheath   \n",
       "3  fit       34c  135lbs     8.0  formal affair               pear    dress   \n",
       "4  fit       34b  145lbs    10.0        wedding           athletic     gown   \n",
       "\n",
       "  height  size    age         review_date  \n",
       "0  5' 8\"    14   28.0      April 20, 2016  \n",
       "1  5' 6\"    12   36.0       June 18, 2013  \n",
       "2  5' 4\"     4  116.0   December 14, 2015  \n",
       "3  5' 5\"     8   34.0   February 12, 2014  \n",
       "4  5' 9\"    12   27.0  September 26, 2016  "
      ]
     },
     "execution_count": 13,
     "metadata": {},
     "output_type": "execute_result"
    }
   ],
   "source": [
    "## dropping columns - Unnamed, Ids, Review\n",
    "\n",
    "data = data.drop(columns=data.columns[0])\n",
    "data = data.drop(['user_id','item_id','review_text','review_summary'], axis = 1)\n",
    "\n",
    "data.head()"
   ]
  },
  {
   "cell_type": "markdown",
   "id": "0aa104be",
   "metadata": {},
   "source": [
    "#### Inferences:\n",
    "-     We dropped 5 unnecessary columns namely: 'Unnamed: 0', 'user_id', 'item_id', 'review_text', 'review_summary'\n",
    "-     Currently we have only 11 columns with 5 columns removed (16 - 5 = 11)"
   ]
  },
  {
   "cell_type": "markdown",
   "id": "6f90ed1c",
   "metadata": {},
   "source": [
    "### 5. Check the column 'weight', Is there any presence of string data? If yes, remove the string data and convert to float."
   ]
  },
  {
   "cell_type": "code",
   "execution_count": 14,
   "id": "d6963aa1",
   "metadata": {},
   "outputs": [
    {
     "name": "stdout",
     "output_type": "stream",
     "text": [
      "Total entries with null values in column \"weight\":  29982\n"
     ]
    }
   ],
   "source": [
    "## checking null values in column \"weight\" and performing imputation for the null values\n",
    "\n",
    "print('Total entries with null values in column \"weight\": ', data.weight.isnull().sum())\n",
    "\n",
    "data[[\"weight\"]] = data[[\"weight\"]].fillna('0lbs')"
   ]
  },
  {
   "cell_type": "code",
   "execution_count": 15,
   "id": "1baf3e80",
   "metadata": {},
   "outputs": [
    {
     "data": {
      "text/plain": [
       "0         137.0\n",
       "1         132.0\n",
       "2           0.0\n",
       "3         135.0\n",
       "4         145.0\n",
       "          ...  \n",
       "192539    140.0\n",
       "192540    100.0\n",
       "192541    135.0\n",
       "192542    165.0\n",
       "192543    155.0\n",
       "Name: weight, Length: 192544, dtype: float64"
      ]
     },
     "execution_count": 15,
     "metadata": {},
     "output_type": "execute_result"
    }
   ],
   "source": [
    "## removing 'lbs' from column \"weight\" and converting to float type\n",
    "\n",
    "data.weight = [float(x.strip('lbs')) for x in data.weight]\n",
    "data.weight"
   ]
  },
  {
   "cell_type": "markdown",
   "id": "201a5b2f",
   "metadata": {},
   "source": [
    "#### Inferences:\n",
    "- Due to the presence of some null values, we cannot perform required weight data handling directly. Hence performing imputation for the missing entries initially\n",
    "- Removed the 'lbs' from weight entries and converted it to float as per the requirement"
   ]
  },
  {
   "cell_type": "markdown",
   "id": "08efffee",
   "metadata": {},
   "source": [
    "### 6. Check the unique categories for the column 'rented for' and group 'party:cocktail' category with 'party'."
   ]
  },
  {
   "cell_type": "code",
   "execution_count": 16,
   "id": "c1d163e4",
   "metadata": {},
   "outputs": [
    {
     "data": {
      "text/plain": [
       "array(['vacation', 'other', 'party', 'formal affair', 'wedding', 'date',\n",
       "       'everyday', 'work', nan, 'party: cocktail'], dtype=object)"
      ]
     },
     "execution_count": 16,
     "metadata": {},
     "output_type": "execute_result"
    }
   ],
   "source": [
    "## checking unique categories in the column 'rented for'\n",
    "\n",
    "data['rented for'].unique()"
   ]
  },
  {
   "cell_type": "code",
   "execution_count": 17,
   "id": "f40184f0",
   "metadata": {},
   "outputs": [
    {
     "data": {
      "text/plain": [
       "array(['vacation', 'other', 'party', 'formal affair', 'wedding', 'date',\n",
       "       'everyday', 'work', nan], dtype=object)"
      ]
     },
     "execution_count": 17,
     "metadata": {},
     "output_type": "execute_result"
    }
   ],
   "source": [
    "## Replacing 'party: cocktail' as 'party'\n",
    "\n",
    "data['rented for'] = data['rented for'].replace({'party: cocktail':'party'})\n",
    "\n",
    "data['rented for'].unique()"
   ]
  },
  {
   "cell_type": "markdown",
   "id": "854618dc",
   "metadata": {},
   "source": [
    "#### Inferences:\n",
    "-    Checked the unique attributes of \"rented for\" column and changed a selected category ('party: cocktail') to 'party'"
   ]
  },
  {
   "cell_type": "markdown",
   "id": "710a5667",
   "metadata": {},
   "source": [
    "### 7. The column 'height' is in feet with a quotation mark, Convert to inches with float datatype."
   ]
  },
  {
   "cell_type": "code",
   "execution_count": 18,
   "id": "45d4c5b3",
   "metadata": {},
   "outputs": [
    {
     "data": {
      "text/plain": [
       "0         68.0\n",
       "1         66.0\n",
       "2         64.0\n",
       "3         65.0\n",
       "4         69.0\n",
       "          ... \n",
       "192539    69.0\n",
       "192540    61.0\n",
       "192541    68.0\n",
       "192542    66.0\n",
       "192543    66.0\n",
       "Name: height, Length: 192544, dtype: float64"
      ]
     },
     "execution_count": 18,
     "metadata": {},
     "output_type": "execute_result"
    }
   ],
   "source": [
    "## converting \"height\" column to inches by removing quotation mark\n",
    "\n",
    "data.height = ['0' if 'nan' in x else ((float(str(x).split(\"'\")[0]) * 12) + (float(str(x).split(\"'\")[1].strip('\"'))) )\n",
    "                                          for x in data.height.astype(str)]\n",
    "data.height = data.height.astype(float)\n",
    "\n",
    "data.height"
   ]
  },
  {
   "cell_type": "markdown",
   "id": "9b240696",
   "metadata": {},
   "source": [
    "#### Inferences:\n",
    "-    \"Height\" column is converted to Float datatype (dtype: float64)\n",
    "-    Quotation mark has been removed and now height is in inches"
   ]
  },
  {
   "cell_type": "markdown",
   "id": "1cf3e458",
   "metadata": {},
   "source": [
    "### 8. Check for missing values in each column of the dataset? If it exists, impute them with appropriate methods."
   ]
  },
  {
   "cell_type": "code",
   "execution_count": 19,
   "id": "c98a4836",
   "metadata": {},
   "outputs": [
    {
     "data": {
      "text/plain": [
       "fit                0\n",
       "bust size      18411\n",
       "weight             0\n",
       "rating            82\n",
       "rented for        10\n",
       "body type      14637\n",
       "category           0\n",
       "height             0\n",
       "size               0\n",
       "age              960\n",
       "review_date        0\n",
       "dtype: int64"
      ]
     },
     "execution_count": 19,
     "metadata": {},
     "output_type": "execute_result"
    }
   ],
   "source": [
    "## getting column-wise count of missing values\n",
    "\n",
    "data.isnull().sum()"
   ]
  },
  {
   "cell_type": "code",
   "execution_count": 20,
   "id": "43802be4",
   "metadata": {},
   "outputs": [],
   "source": [
    "## including imputation for missing entries\n",
    "\n",
    "categorical_columns = data.select_dtypes('object')\n",
    "numerical_columns = data.select_dtypes('float64')\n",
    "\n",
    "for i in categorical_columns:\n",
    "    data[i] = data[[i]].fillna('Missing')\n",
    "    \n",
    "for i in numerical_columns:\n",
    "    data[i] = data[[i]].fillna(0)"
   ]
  },
  {
   "cell_type": "code",
   "execution_count": 21,
   "id": "e4d9e6cf",
   "metadata": {},
   "outputs": [
    {
     "data": {
      "text/plain": [
       "fit            0\n",
       "bust size      0\n",
       "weight         0\n",
       "rating         0\n",
       "rented for     0\n",
       "body type      0\n",
       "category       0\n",
       "height         0\n",
       "size           0\n",
       "age            0\n",
       "review_date    0\n",
       "dtype: int64"
      ]
     },
     "execution_count": 21,
     "metadata": {},
     "output_type": "execute_result"
    }
   ],
   "source": [
    "data.isnull().sum()"
   ]
  },
  {
   "cell_type": "markdown",
   "id": "c6e72087",
   "metadata": {},
   "source": [
    "#### Inferences:\n",
    "-    Total count of missing entries in each column is observed\n",
    "-    All null or NaN values are imputed as: \n",
    "        - 0 for float datatype\n",
    "        - 'Missing' for object datatype (string)\n",
    "-    Finally, all column information is retrieved and it is verified that there are no null values in the dataset"
   ]
  },
  {
   "cell_type": "markdown",
   "id": "71c6963e",
   "metadata": {},
   "source": [
    "### 9. Check the statistical summary for the numerical and categorical columns and write your findings"
   ]
  },
  {
   "cell_type": "code",
   "execution_count": 22,
   "id": "33e4dcab",
   "metadata": {},
   "outputs": [
    {
     "data": {
      "text/html": [
       "<div>\n",
       "<style scoped>\n",
       "    .dataframe tbody tr th:only-of-type {\n",
       "        vertical-align: middle;\n",
       "    }\n",
       "\n",
       "    .dataframe tbody tr th {\n",
       "        vertical-align: top;\n",
       "    }\n",
       "\n",
       "    .dataframe thead th {\n",
       "        text-align: right;\n",
       "    }\n",
       "</style>\n",
       "<table border=\"1\" class=\"dataframe\">\n",
       "  <thead>\n",
       "    <tr style=\"text-align: right;\">\n",
       "      <th></th>\n",
       "      <th>weight</th>\n",
       "      <th>rating</th>\n",
       "      <th>height</th>\n",
       "      <th>size</th>\n",
       "      <th>age</th>\n",
       "    </tr>\n",
       "  </thead>\n",
       "  <tbody>\n",
       "    <tr>\n",
       "      <th>count</th>\n",
       "      <td>192544.000000</td>\n",
       "      <td>192544.000000</td>\n",
       "      <td>192544.000000</td>\n",
       "      <td>192544.000000</td>\n",
       "      <td>192544.000000</td>\n",
       "    </tr>\n",
       "    <tr>\n",
       "      <th>mean</th>\n",
       "      <td>115.997751</td>\n",
       "      <td>9.088499</td>\n",
       "      <td>65.080984</td>\n",
       "      <td>12.245175</td>\n",
       "      <td>33.702141</td>\n",
       "    </tr>\n",
       "    <tr>\n",
       "      <th>std</th>\n",
       "      <td>53.726993</td>\n",
       "      <td>1.441995</td>\n",
       "      <td>4.691938</td>\n",
       "      <td>8.494877</td>\n",
       "      <td>8.384539</td>\n",
       "    </tr>\n",
       "    <tr>\n",
       "      <th>min</th>\n",
       "      <td>0.000000</td>\n",
       "      <td>0.000000</td>\n",
       "      <td>0.000000</td>\n",
       "      <td>0.000000</td>\n",
       "      <td>0.000000</td>\n",
       "    </tr>\n",
       "    <tr>\n",
       "      <th>25%</th>\n",
       "      <td>115.000000</td>\n",
       "      <td>8.000000</td>\n",
       "      <td>63.000000</td>\n",
       "      <td>8.000000</td>\n",
       "      <td>29.000000</td>\n",
       "    </tr>\n",
       "    <tr>\n",
       "      <th>50%</th>\n",
       "      <td>130.000000</td>\n",
       "      <td>10.000000</td>\n",
       "      <td>65.000000</td>\n",
       "      <td>12.000000</td>\n",
       "      <td>32.000000</td>\n",
       "    </tr>\n",
       "    <tr>\n",
       "      <th>75%</th>\n",
       "      <td>145.000000</td>\n",
       "      <td>10.000000</td>\n",
       "      <td>67.000000</td>\n",
       "      <td>16.000000</td>\n",
       "      <td>37.000000</td>\n",
       "    </tr>\n",
       "    <tr>\n",
       "      <th>max</th>\n",
       "      <td>300.000000</td>\n",
       "      <td>10.000000</td>\n",
       "      <td>78.000000</td>\n",
       "      <td>58.000000</td>\n",
       "      <td>117.000000</td>\n",
       "    </tr>\n",
       "  </tbody>\n",
       "</table>\n",
       "</div>"
      ],
      "text/plain": [
       "              weight         rating         height           size  \\\n",
       "count  192544.000000  192544.000000  192544.000000  192544.000000   \n",
       "mean      115.997751       9.088499      65.080984      12.245175   \n",
       "std        53.726993       1.441995       4.691938       8.494877   \n",
       "min         0.000000       0.000000       0.000000       0.000000   \n",
       "25%       115.000000       8.000000      63.000000       8.000000   \n",
       "50%       130.000000      10.000000      65.000000      12.000000   \n",
       "75%       145.000000      10.000000      67.000000      16.000000   \n",
       "max       300.000000      10.000000      78.000000      58.000000   \n",
       "\n",
       "                 age  \n",
       "count  192544.000000  \n",
       "mean       33.702141  \n",
       "std         8.384539  \n",
       "min         0.000000  \n",
       "25%        29.000000  \n",
       "50%        32.000000  \n",
       "75%        37.000000  \n",
       "max       117.000000  "
      ]
     },
     "execution_count": 22,
     "metadata": {},
     "output_type": "execute_result"
    }
   ],
   "source": [
    "## checking the statistical summary of data\n",
    "\n",
    "data.describe()"
   ]
  },
  {
   "cell_type": "code",
   "execution_count": 23,
   "id": "1ef5d5fb",
   "metadata": {},
   "outputs": [
    {
     "data": {
      "text/html": [
       "<div>\n",
       "<style scoped>\n",
       "    .dataframe tbody tr th:only-of-type {\n",
       "        vertical-align: middle;\n",
       "    }\n",
       "\n",
       "    .dataframe tbody tr th {\n",
       "        vertical-align: top;\n",
       "    }\n",
       "\n",
       "    .dataframe thead th {\n",
       "        text-align: right;\n",
       "    }\n",
       "</style>\n",
       "<table border=\"1\" class=\"dataframe\">\n",
       "  <thead>\n",
       "    <tr style=\"text-align: right;\">\n",
       "      <th></th>\n",
       "      <th>fit</th>\n",
       "      <th>bust size</th>\n",
       "      <th>rented for</th>\n",
       "      <th>body type</th>\n",
       "      <th>category</th>\n",
       "      <th>review_date</th>\n",
       "    </tr>\n",
       "  </thead>\n",
       "  <tbody>\n",
       "    <tr>\n",
       "      <th>count</th>\n",
       "      <td>192544</td>\n",
       "      <td>192544</td>\n",
       "      <td>192544</td>\n",
       "      <td>192544</td>\n",
       "      <td>192544</td>\n",
       "      <td>192544</td>\n",
       "    </tr>\n",
       "    <tr>\n",
       "      <th>unique</th>\n",
       "      <td>3</td>\n",
       "      <td>107</td>\n",
       "      <td>9</td>\n",
       "      <td>8</td>\n",
       "      <td>68</td>\n",
       "      <td>2274</td>\n",
       "    </tr>\n",
       "    <tr>\n",
       "      <th>top</th>\n",
       "      <td>fit</td>\n",
       "      <td>34b</td>\n",
       "      <td>wedding</td>\n",
       "      <td>hourglass</td>\n",
       "      <td>dress</td>\n",
       "      <td>June 15, 2016</td>\n",
       "    </tr>\n",
       "    <tr>\n",
       "      <th>freq</th>\n",
       "      <td>142058</td>\n",
       "      <td>27285</td>\n",
       "      <td>57784</td>\n",
       "      <td>55349</td>\n",
       "      <td>92884</td>\n",
       "      <td>844</td>\n",
       "    </tr>\n",
       "  </tbody>\n",
       "</table>\n",
       "</div>"
      ],
      "text/plain": [
       "           fit bust size rented for  body type category    review_date\n",
       "count   192544    192544     192544     192544   192544         192544\n",
       "unique       3       107          9          8       68           2274\n",
       "top        fit       34b    wedding  hourglass    dress  June 15, 2016\n",
       "freq    142058     27285      57784      55349    92884            844"
      ]
     },
     "execution_count": 23,
     "metadata": {},
     "output_type": "execute_result"
    }
   ],
   "source": [
    "## checking the statistical summary of data -- for object type\n",
    "\n",
    "data.describe(include = 'O')"
   ]
  },
  {
   "cell_type": "markdown",
   "id": "f5bb3b55",
   "metadata": {},
   "source": [
    "### Inferences:\n",
    "- There are a total of 192544 records with 5 numerical columns and 6 object type columns\n",
    "- It is evident that the minimum value of numerical values are 0 and the maximum vallues correspond to the respective columns values\n",
    "- We have records of people from all age categories upto 117 (max age)\n",
    "- We are also able to get the frequent occurances of body-type, category and rented-for purpose which helps us to derive the most preferred option of customers, therby helping to restock in the e-commerce business"
   ]
  },
  {
   "cell_type": "markdown",
   "id": "403be934",
   "metadata": {},
   "source": [
    "### 10. Are there outliers present in the column age? If yes, treat them with the appropriate method."
   ]
  },
  {
   "cell_type": "code",
   "execution_count": 24,
   "id": "4cfd7946",
   "metadata": {},
   "outputs": [
    {
     "data": {
      "text/plain": [
       "<Axes: >"
      ]
     },
     "execution_count": 24,
     "metadata": {},
     "output_type": "execute_result"
    },
    {
     "data": {
      "image/png": "[encoded data removed]",
      "text/plain": [
       "<Figure size 640x480 with 1 Axes>"
      ]
     },
     "metadata": {},
     "output_type": "display_data"
    }
   ],
   "source": [
    "## plotting the box-plot of 'age' -- with outliers : before treatement\n",
    "\n",
    "sns.boxplot(data['age'])"
   ]
  },
  {
   "cell_type": "code",
   "execution_count": 25,
   "id": "f5694cd7",
   "metadata": {},
   "outputs": [
    {
     "data": {
      "text/plain": [
       "<Axes: >"
      ]
     },
     "execution_count": 25,
     "metadata": {},
     "output_type": "execute_result"
    },
    {
     "data": {
      "image/png": "[encoded data removed]",
      "text/plain": [
       "<Figure size 640x480 with 1 Axes>"
      ]
     },
     "metadata": {},
     "output_type": "display_data"
    }
   ],
   "source": [
    "## plotting the box-plot of 'age' - after treating with transformation approach : after treatement\n",
    "\n",
    "## IQR treatment for outliers\n",
    "\n",
    "Q1 = data['age'].quantile(0.25)\n",
    "Q2 = data['age'].quantile(0.5)\n",
    "Q3 = data['age'].quantile(0.75)\n",
    "\n",
    "IQR = Q3 - Q1\n",
    "\n",
    "upper_range = Q3 + 1.5*IQR\n",
    "lower_range = Q3 - 1.5*IQR\n",
    "\n",
    "data_df_filter = data.loc[(data['age'] > lower_range) & (data['age'] < upper_range)]\n",
    "\n",
    "\n",
    "## plotting boxplot of IQR treated dataset\n",
    "\n",
    "sns.boxplot(data_df_filter['age'])"
   ]
  },
  {
   "cell_type": "markdown",
   "id": "a382728b",
   "metadata": {},
   "source": [
    "#### Inferences:\n",
    "- From the box-plot, it is evident that there are a lot of outliers available for the column 'age'\n",
    "- So using the IQR treatment, the outliers are removed and minimised. The results of the same can be observed in the after treatment box-plot"
   ]
  },
  {
   "cell_type": "markdown",
   "id": "100f967c",
   "metadata": {},
   "source": [
    "### 11. Check the distribution of the different categories in the column 'rented for' using appropriate plot."
   ]
  },
  {
   "cell_type": "code",
   "execution_count": 26,
   "id": "c6907295",
   "metadata": {},
   "outputs": [
    {
     "data": {
      "text/plain": [
       "<Axes: ylabel='proportion'>"
      ]
     },
     "execution_count": 26,
     "metadata": {},
     "output_type": "execute_result"
    },
    {
     "data": {
      "image/png": "[encoded data removed]",
      "text/plain": [
       "<Figure size 640x480 with 1 Axes>"
      ]
     },
     "metadata": {},
     "output_type": "display_data"
    }
   ],
   "source": [
    "## plotting the distribution of column 'rented for' with percentage values in pie-chart\n",
    "\n",
    "data['rented for'].value_counts(normalize=True).plot(kind='pie', autopct='%1.0f%%')"
   ]
  },
  {
   "cell_type": "code",
   "execution_count": 27,
   "id": "9e06123f",
   "metadata": {},
   "outputs": [
    {
     "data": {
      "image/png": "[encoded data removed]",
      "text/plain": [
       "<Figure size 1500x600 with 1 Axes>"
      ]
     },
     "metadata": {},
     "output_type": "display_data"
    }
   ],
   "source": [
    "## count plot for 'rented for' column\n",
    "\n",
    "plt.figure(figsize = (15, 6))\n",
    "position_df = sns.countplot(y = data['rented for'], color = 'orange')\n",
    "\n",
    "position_df.set_xlabel(xlabel = 'Count of catgories', fontsize = 14)\n",
    "position_df.set_ylabel(ylabel = 'Rented for categories', fontsize = 14)\n",
    "position_df.set_title(label = 'Distribution of Rented categories', fontsize = 18)\n",
    "\n",
    "position_df.bar_label(position_df.containers[0], fontsize = 10)\n",
    "\n",
    "plt.show()"
   ]
  },
  {
   "cell_type": "markdown",
   "id": "1d1a7f9d",
   "metadata": {},
   "source": [
    "#### Inferences:\n",
    "- The above plots show the distribution of Rented-for categories over the dataset\n",
    "- It is observed that customers rent outfits mostly for 'weddings' followed by 'formal affair' and least for 'vacation'\n",
    "- The number of customers who rented their costumes for weddings range about 57784 (approx 58,000) which computes to 30% of total categories\n",
    "- The least used purpose like 'vacation' includes about 4075 entries (2%) and 'date' includes 7388 entries (4%)"
   ]
  },
  {
   "cell_type": "markdown",
   "id": "85443c11",
   "metadata": {},
   "source": [
    "## <font color='blue'> Data Preparation for model building </font>"
   ]
  },
  {
   "cell_type": "markdown",
   "id": "5f897428",
   "metadata": {},
   "source": [
    "### 12. Encode the categorical variables in the dataset."
   ]
  },
  {
   "cell_type": "code",
   "execution_count": 28,
   "id": "2ca6e3a6",
   "metadata": {},
   "outputs": [
    {
     "data": {
      "text/html": [
       "<div>\n",
       "<style scoped>\n",
       "    .dataframe tbody tr th:only-of-type {\n",
       "        vertical-align: middle;\n",
       "    }\n",
       "\n",
       "    .dataframe tbody tr th {\n",
       "        vertical-align: top;\n",
       "    }\n",
       "\n",
       "    .dataframe thead th {\n",
       "        text-align: right;\n",
       "    }\n",
       "</style>\n",
       "<table border=\"1\" class=\"dataframe\">\n",
       "  <thead>\n",
       "    <tr style=\"text-align: right;\">\n",
       "      <th></th>\n",
       "      <th>fit</th>\n",
       "      <th>bust size</th>\n",
       "      <th>weight</th>\n",
       "      <th>rating</th>\n",
       "      <th>rented for</th>\n",
       "      <th>body type</th>\n",
       "      <th>category</th>\n",
       "      <th>height</th>\n",
       "      <th>size</th>\n",
       "      <th>age</th>\n",
       "      <th>review_date</th>\n",
       "    </tr>\n",
       "  </thead>\n",
       "  <tbody>\n",
       "    <tr>\n",
       "      <th>0</th>\n",
       "      <td>0</td>\n",
       "      <td>39</td>\n",
       "      <td>137.0</td>\n",
       "      <td>10.0</td>\n",
       "      <td>6</td>\n",
       "      <td>4</td>\n",
       "      <td>44</td>\n",
       "      <td>68.0</td>\n",
       "      <td>14</td>\n",
       "      <td>28.0</td>\n",
       "      <td>77</td>\n",
       "    </tr>\n",
       "    <tr>\n",
       "      <th>1</th>\n",
       "      <td>0</td>\n",
       "      <td>37</td>\n",
       "      <td>132.0</td>\n",
       "      <td>10.0</td>\n",
       "      <td>4</td>\n",
       "      <td>7</td>\n",
       "      <td>20</td>\n",
       "      <td>66.0</td>\n",
       "      <td>12</td>\n",
       "      <td>36.0</td>\n",
       "      <td>1189</td>\n",
       "    </tr>\n",
       "    <tr>\n",
       "      <th>2</th>\n",
       "      <td>0</td>\n",
       "      <td>106</td>\n",
       "      <td>0.0</td>\n",
       "      <td>10.0</td>\n",
       "      <td>5</td>\n",
       "      <td>0</td>\n",
       "      <td>45</td>\n",
       "      <td>64.0</td>\n",
       "      <td>4</td>\n",
       "      <td>116.0</td>\n",
       "      <td>411</td>\n",
       "    </tr>\n",
       "    <tr>\n",
       "      <th>3</th>\n",
       "      <td>0</td>\n",
       "      <td>38</td>\n",
       "      <td>135.0</td>\n",
       "      <td>8.0</td>\n",
       "      <td>3</td>\n",
       "      <td>5</td>\n",
       "      <td>16</td>\n",
       "      <td>65.0</td>\n",
       "      <td>8</td>\n",
       "      <td>34.0</td>\n",
       "      <td>607</td>\n",
       "    </tr>\n",
       "    <tr>\n",
       "      <th>4</th>\n",
       "      <td>0</td>\n",
       "      <td>37</td>\n",
       "      <td>145.0</td>\n",
       "      <td>10.0</td>\n",
       "      <td>7</td>\n",
       "      <td>2</td>\n",
       "      <td>20</td>\n",
       "      <td>69.0</td>\n",
       "      <td>12</td>\n",
       "      <td>27.0</td>\n",
       "      <td>2205</td>\n",
       "    </tr>\n",
       "  </tbody>\n",
       "</table>\n",
       "</div>"
      ],
      "text/plain": [
       "   fit  bust size  weight  rating  rented for  body type  category  height  \\\n",
       "0    0         39   137.0    10.0           6          4        44    68.0   \n",
       "1    0         37   132.0    10.0           4          7        20    66.0   \n",
       "2    0        106     0.0    10.0           5          0        45    64.0   \n",
       "3    0         38   135.0     8.0           3          5        16    65.0   \n",
       "4    0         37   145.0    10.0           7          2        20    69.0   \n",
       "\n",
       "   size    age  review_date  \n",
       "0    14   28.0           77  \n",
       "1    12   36.0         1189  \n",
       "2     4  116.0          411  \n",
       "3     8   34.0          607  \n",
       "4    12   27.0         2205  "
      ]
     },
     "execution_count": 28,
     "metadata": {},
     "output_type": "execute_result"
    }
   ],
   "source": [
    "## get all columns with type 'Object'\n",
    "\n",
    "#categorical_columns = data.select_dtypes('object')\n",
    "\n",
    "\n",
    "## perform label encoding for selected columns\n",
    "\n",
    "lbl_encoder = LabelEncoder()\n",
    "for i in categorical_columns:\n",
    "    data[i] = data[[i]].apply(lbl_encoder.fit_transform)\n",
    "    \n",
    "data.head()"
   ]
  },
  {
   "cell_type": "markdown",
   "id": "047908d6",
   "metadata": {},
   "source": [
    "#### Inferences:\n",
    "- All categorical columns are encoded and now converted to numerical type using the LabelEncoder technique"
   ]
  },
  {
   "cell_type": "markdown",
   "id": "0618858f",
   "metadata": {},
   "source": [
    "### 13. Standardize the data, so that the values are within a particular range."
   ]
  },
  {
   "cell_type": "code",
   "execution_count": 29,
   "id": "aeed14fe",
   "metadata": {},
   "outputs": [
    {
     "data": {
      "text/html": [
       "<div>\n",
       "<style scoped>\n",
       "    .dataframe tbody tr th:only-of-type {\n",
       "        vertical-align: middle;\n",
       "    }\n",
       "\n",
       "    .dataframe tbody tr th {\n",
       "        vertical-align: top;\n",
       "    }\n",
       "\n",
       "    .dataframe thead th {\n",
       "        text-align: right;\n",
       "    }\n",
       "</style>\n",
       "<table border=\"1\" class=\"dataframe\">\n",
       "  <thead>\n",
       "    <tr style=\"text-align: right;\">\n",
       "      <th></th>\n",
       "      <th>fit</th>\n",
       "      <th>bust size</th>\n",
       "      <th>weight</th>\n",
       "      <th>rating</th>\n",
       "      <th>rented for</th>\n",
       "      <th>body type</th>\n",
       "      <th>category</th>\n",
       "      <th>height</th>\n",
       "      <th>size</th>\n",
       "      <th>age</th>\n",
       "      <th>review_date</th>\n",
       "    </tr>\n",
       "  </thead>\n",
       "  <tbody>\n",
       "    <tr>\n",
       "      <th>0</th>\n",
       "      <td>-0.556291</td>\n",
       "      <td>-0.295959</td>\n",
       "      <td>0.390908</td>\n",
       "      <td>0.632113</td>\n",
       "      <td>0.514533</td>\n",
       "      <td>0.178145</td>\n",
       "      <td>1.569310</td>\n",
       "      <td>0.622136</td>\n",
       "      <td>0.206575</td>\n",
       "      <td>-0.680080</td>\n",
       "      <td>-1.650564</td>\n",
       "    </tr>\n",
       "    <tr>\n",
       "      <th>1</th>\n",
       "      <td>-0.556291</td>\n",
       "      <td>-0.384988</td>\n",
       "      <td>0.297845</td>\n",
       "      <td>0.632113</td>\n",
       "      <td>-0.456520</td>\n",
       "      <td>1.763791</td>\n",
       "      <td>-0.307247</td>\n",
       "      <td>0.195872</td>\n",
       "      <td>-0.028862</td>\n",
       "      <td>0.274060</td>\n",
       "      <td>0.009280</td>\n",
       "    </tr>\n",
       "    <tr>\n",
       "      <th>2</th>\n",
       "      <td>-0.556291</td>\n",
       "      <td>2.686512</td>\n",
       "      <td>-2.159027</td>\n",
       "      <td>0.632113</td>\n",
       "      <td>0.029006</td>\n",
       "      <td>-1.936050</td>\n",
       "      <td>1.647500</td>\n",
       "      <td>-0.230392</td>\n",
       "      <td>-0.970608</td>\n",
       "      <td>9.815456</td>\n",
       "      <td>-1.152014</td>\n",
       "    </tr>\n",
       "    <tr>\n",
       "      <th>3</th>\n",
       "      <td>-0.556291</td>\n",
       "      <td>-0.340473</td>\n",
       "      <td>0.353683</td>\n",
       "      <td>-0.754859</td>\n",
       "      <td>-0.942047</td>\n",
       "      <td>0.706694</td>\n",
       "      <td>-0.620006</td>\n",
       "      <td>-0.017260</td>\n",
       "      <td>-0.499735</td>\n",
       "      <td>0.035525</td>\n",
       "      <td>-0.859452</td>\n",
       "    </tr>\n",
       "    <tr>\n",
       "      <th>4</th>\n",
       "      <td>-0.556291</td>\n",
       "      <td>-0.384988</td>\n",
       "      <td>0.539809</td>\n",
       "      <td>0.632113</td>\n",
       "      <td>1.000060</td>\n",
       "      <td>-0.878953</td>\n",
       "      <td>-0.307247</td>\n",
       "      <td>0.835268</td>\n",
       "      <td>-0.028862</td>\n",
       "      <td>-0.799347</td>\n",
       "      <td>1.525828</td>\n",
       "    </tr>\n",
       "  </tbody>\n",
       "</table>\n",
       "</div>"
      ],
      "text/plain": [
       "        fit  bust size    weight    rating  rented for  body type  category  \\\n",
       "0 -0.556291  -0.295959  0.390908  0.632113    0.514533   0.178145  1.569310   \n",
       "1 -0.556291  -0.384988  0.297845  0.632113   -0.456520   1.763791 -0.307247   \n",
       "2 -0.556291   2.686512 -2.159027  0.632113    0.029006  -1.936050  1.647500   \n",
       "3 -0.556291  -0.340473  0.353683 -0.754859   -0.942047   0.706694 -0.620006   \n",
       "4 -0.556291  -0.384988  0.539809  0.632113    1.000060  -0.878953 -0.307247   \n",
       "\n",
       "     height      size       age  review_date  \n",
       "0  0.622136  0.206575 -0.680080    -1.650564  \n",
       "1  0.195872 -0.028862  0.274060     0.009280  \n",
       "2 -0.230392 -0.970608  9.815456    -1.152014  \n",
       "3 -0.017260 -0.499735  0.035525    -0.859452  \n",
       "4  0.835268 -0.028862 -0.799347     1.525828  "
      ]
     },
     "execution_count": 29,
     "metadata": {},
     "output_type": "execute_result"
    }
   ],
   "source": [
    "## Standardizing the columns\n",
    "\n",
    "data_df = data.copy()\n",
    "scaled_features = StandardScaler().fit_transform(data_df.values)\n",
    "scaled_features_df = pd.DataFrame(scaled_features, index = data_df.index, columns = data_df.columns)\n",
    "\n",
    "scaled_features_df.head()"
   ]
  },
  {
   "cell_type": "markdown",
   "id": "282a8832",
   "metadata": {},
   "source": [
    "#### Inferences:\n",
    "- The provided dataset is standardized using the Standard Scaler technique and all columns are brought to a particular range for performing computation and analysis"
   ]
  },
  {
   "cell_type": "markdown",
   "id": "8f31ed27",
   "metadata": {},
   "source": [
    "## <font color='blue'> Principal Component Analysis and Clustering </font>"
   ]
  },
  {
   "cell_type": "markdown",
   "id": "0fef72a6",
   "metadata": {},
   "source": [
    "###  14. Apply PCA on the above dataset and determine the number of PCA components to be used so that 90-95% of the variance in data is explained by the same."
   ]
  },
  {
   "cell_type": "code",
   "execution_count": 30,
   "id": "0d44f394",
   "metadata": {},
   "outputs": [
    {
     "data": {
      "text/plain": [
       "array([[ 1.00000519e+00,  2.50158302e-03,  1.08364122e-02,\n",
       "        -2.42452840e-01,  8.42615981e-03, -6.72087822e-03,\n",
       "         3.35892077e-04, -1.31716413e-03,  6.54006939e-02,\n",
       "         1.17639094e-03, -6.37093934e-03],\n",
       "       [ 2.50158302e-03,  1.00000519e+00, -1.29927221e-01,\n",
       "        -2.82402302e-03,  3.80109361e-03, -2.38681523e-01,\n",
       "        -8.12084214e-03,  3.53832782e-02,  3.69772205e-01,\n",
       "         7.27856239e-02, -7.13724329e-03],\n",
       "       [ 1.08364122e-02, -1.29927221e-01,  1.00000519e+00,\n",
       "        -9.24412628e-03, -8.87810298e-04,  5.20226207e-02,\n",
       "         3.00232412e-03,  8.02723021e-02,  8.77275791e-02,\n",
       "         8.18843181e-02, -7.28809853e-03],\n",
       "       [-2.42452840e-01, -2.82402302e-03, -9.24412628e-03,\n",
       "         1.00000519e+00,  1.37572723e-02, -1.02927478e-02,\n",
       "        -2.23637380e-02,  4.14759256e-03, -3.63556284e-02,\n",
       "        -3.47509531e-02,  1.70288783e-02],\n",
       "       [ 8.42615981e-03,  3.80109361e-03, -8.87810298e-04,\n",
       "         1.37572723e-02,  1.00000519e+00, -1.92965568e-02,\n",
       "        -5.76358771e-02, -1.31762419e-02,  4.98053503e-03,\n",
       "        -3.66959307e-02,  7.88377776e-02],\n",
       "       [-6.72087822e-03, -2.38681523e-01,  5.20226207e-02,\n",
       "        -1.02927478e-02, -1.92965568e-02,  1.00000519e+00,\n",
       "         2.76586265e-04, -5.12440146e-02, -1.83605586e-01,\n",
       "         8.41292514e-03, -1.22295001e-02],\n",
       "       [ 3.35892077e-04, -8.12084214e-03,  3.00232412e-03,\n",
       "        -2.23637380e-02, -5.76358771e-02,  2.76586265e-04,\n",
       "         1.00000519e+00, -4.27168945e-03, -5.62602705e-03,\n",
       "         2.33937863e-02, -1.34827359e-03],\n",
       "       [-1.31716413e-03,  3.53832782e-02,  8.02723021e-02,\n",
       "         4.14759256e-03, -1.31762419e-02, -5.12440146e-02,\n",
       "        -4.27168945e-03,  1.00000519e+00,  1.25981229e-01,\n",
       "         6.36823428e-03, -8.94786852e-03],\n",
       "       [ 6.54006939e-02,  3.69772205e-01,  8.77275791e-02,\n",
       "        -3.63556284e-02,  4.98053503e-03, -1.83605586e-01,\n",
       "        -5.62602705e-03,  1.25981229e-01,  1.00000519e+00,\n",
       "         1.46864903e-01, -3.38705489e-03],\n",
       "       [ 1.17639094e-03,  7.27856239e-02,  8.18843181e-02,\n",
       "        -3.47509531e-02, -3.66959307e-02,  8.41292514e-03,\n",
       "         2.33937863e-02,  6.36823428e-03,  1.46864903e-01,\n",
       "         1.00000519e+00, -3.78699052e-03],\n",
       "       [-6.37093934e-03, -7.13724329e-03, -7.28809853e-03,\n",
       "         1.70288783e-02,  7.88377776e-02, -1.22295001e-02,\n",
       "        -1.34827359e-03, -8.94786852e-03, -3.38705489e-03,\n",
       "        -3.78699052e-03,  1.00000519e+00]])"
      ]
     },
     "execution_count": 30,
     "metadata": {},
     "output_type": "execute_result"
    }
   ],
   "source": [
    "## step 1: Calculate the covariance matrix\n",
    "\n",
    "cov_matrix = np.cov(scaled_features.T)\n",
    "cov_matrix"
   ]
  },
  {
   "cell_type": "code",
   "execution_count": 31,
   "id": "80e565c5",
   "metadata": {},
   "outputs": [
    {
     "name": "stdout",
     "output_type": "stream",
     "text": [
      "Eigen values:  [1.60006706 0.56549429 1.2606841  1.16741989 1.09553335 0.75155217\n",
      " 0.79172095 0.8586313  0.90615731 1.01551503 0.98728168]\n",
      "\n",
      "\n",
      "Eigen vectors:  [[-0.10772778 -0.09710262  0.60756983  0.33061147  0.09436271  0.67638944\n",
      "  -0.13541168 -0.07478029 -0.02527009 -0.08729558  0.04388905]\n",
      " [-0.58628638 -0.67072002 -0.18288313  0.16428793 -0.12128744 -0.13074016\n",
      "  -0.3130462   0.07117738 -0.00173364  0.05467178 -0.09003548]\n",
      " [ 0.0168971  -0.29748488  0.27453788 -0.60254192  0.32164133 -0.11493514\n",
      "  -0.08863996 -0.554615    0.19676945 -0.03454073  0.02756938]\n",
      " [ 0.08636907 -0.01386806 -0.63488441 -0.28597415  0.00390193  0.67464719\n",
      "  -0.20665954 -0.08136867  0.05054227  0.00386606 -0.02064187]\n",
      " [-0.00378696 -0.00775598 -0.11674771  0.22609709  0.64604457 -0.01512795\n",
      "   0.05697191  0.29127884  0.64752632  0.09259708 -0.04024209]\n",
      " [ 0.43261916 -0.06575998  0.20627539 -0.19095542  0.01747858 -0.09731078\n",
      "  -0.67773174  0.45010302 -0.0845941   0.10738922 -0.19780354]\n",
      " [ 0.00387002 -0.00157866  0.10566081 -0.09892405 -0.40239022  0.03428355\n",
      "  -0.07237282  0.07994249  0.40329948  0.44895901  0.66339718]\n",
      " [-0.19737889 -0.08965393  0.0436799  -0.35990957  0.19608493  0.05115005\n",
      "   0.14935577  0.51313214 -0.20891884 -0.48410931  0.46569801]\n",
      " [-0.60289505  0.66066753  0.05211688 -0.15615105  0.07746732 -0.05831954\n",
      "  -0.39490558 -0.04788253  0.03865417  0.02683848 -0.05546797]\n",
      " [-0.21728243 -0.05384647  0.18714473 -0.38819112 -0.04964677  0.19785191\n",
      "   0.42895483  0.3247192  -0.06021393  0.50143318 -0.42196856]\n",
      " [ 0.00875732 -0.01450126 -0.10941834  0.12995124  0.49639137 -0.03176375\n",
      "  -0.05510721 -0.1012731  -0.56588142  0.52914483  0.33155833]]\n"
     ]
    }
   ],
   "source": [
    "## step 2: Calculate eigen values and eigen vectors\n",
    "\n",
    "eig_values, eig_vectors = np.linalg.eig(cov_matrix)\n",
    "print('Eigen values: ', eig_values)\n",
    "print('\\n')\n",
    "print('Eigen vectors: ',eig_vectors)"
   ]
  },
  {
   "cell_type": "code",
   "execution_count": 32,
   "id": "ae4f8004",
   "metadata": {},
   "outputs": [
    {
     "name": "stdout",
     "output_type": "stream",
     "text": [
      "Explained Variance:  [14.545988623204659, 11.460705023484076, 10.612852966859242, 9.959342323710962, 9.231906912837685, 8.975241417117912, 8.237750901087486, 7.805698545209625, 7.197425839799426, 6.832256940669926, 5.14083050601901]\n",
      "\n",
      "\n",
      "Cummulative Variance Explained:  [ 14.54598862  26.00669365  36.61954661  46.57888894  55.81079585\n",
      "  64.78603727  73.02378817  80.82948671  88.02691255  94.85916949\n",
      " 100.        ]\n"
     ]
    }
   ],
   "source": [
    "## step 3: Scree plot\n",
    "\n",
    "total = sum(eig_values)\n",
    "var_exp = [(i/total)*100 for i in sorted(eig_values, reverse=True)]\n",
    "cum_var_exp = np.cumsum(var_exp)\n",
    "\n",
    "print('Explained Variance: ', var_exp)\n",
    "print('\\n')\n",
    "print('Cummulative Variance Explained: ', cum_var_exp)"
   ]
  },
  {
   "cell_type": "code",
   "execution_count": 33,
   "id": "864fb42c",
   "metadata": {},
   "outputs": [
    {
     "data": {
      "image/png": "[encoded data removed]",
      "text/plain": [
       "<Figure size 640x480 with 1 Axes>"
      ]
     },
     "metadata": {},
     "output_type": "display_data"
    }
   ],
   "source": [
    "## Scree plot\n",
    "\n",
    "plt.bar(range(11), var_exp, align='center', color='lightgreen', edgecolor='black', label='Explained Variance')\n",
    "plt.step(range(11), cum_var_exp, where='mid', color='red', label='Cummulative Explained Variance')\n",
    "plt.xlabel('Principal Components')\n",
    "plt.ylabel('Explained Variance Ratio')\n",
    "plt.title('Scree plot')\n",
    "plt.legend(loc='best')\n",
    "plt.show()"
   ]
  },
  {
   "cell_type": "markdown",
   "id": "6ef6e723",
   "metadata": {},
   "source": [
    "- It is observed from the above Scree plot, that first 8 principal components are explaining about 90-95% of the variation.\n",
    "- Hence, the optimal number of principal componets is chosen as 8"
   ]
  },
  {
   "cell_type": "markdown",
   "id": "726eecec",
   "metadata": {},
   "source": [
    "### 15. Apply K-means clustering and segment the data. (You may use original data or PCA transformed data)\n",
    "    a. Find the optimal K Value using elbow plot for K Means clustering.\n",
    "    b. Build a Kmeans clustering model using the obtained optimal K value from the elbow plot.\n",
    "    c. Compute silhouette score for evaluating the quality of the K Means clustering technique."
   ]
  },
  {
   "cell_type": "code",
   "execution_count": 34,
   "id": "6b989838",
   "metadata": {},
   "outputs": [
    {
     "data": {
      "text/html": [
       "<div>\n",
       "<style scoped>\n",
       "    .dataframe tbody tr th:only-of-type {\n",
       "        vertical-align: middle;\n",
       "    }\n",
       "\n",
       "    .dataframe tbody tr th {\n",
       "        vertical-align: top;\n",
       "    }\n",
       "\n",
       "    .dataframe thead th {\n",
       "        text-align: right;\n",
       "    }\n",
       "</style>\n",
       "<table border=\"1\" class=\"dataframe\">\n",
       "  <thead>\n",
       "    <tr style=\"text-align: right;\">\n",
       "      <th></th>\n",
       "      <th>PC1</th>\n",
       "      <th>PC2</th>\n",
       "      <th>PC3</th>\n",
       "      <th>PC4</th>\n",
       "      <th>PC5</th>\n",
       "      <th>PC6</th>\n",
       "      <th>PC7</th>\n",
       "      <th>PC8</th>\n",
       "    </tr>\n",
       "  </thead>\n",
       "  <tbody>\n",
       "    <tr>\n",
       "      <th>0</th>\n",
       "      <td>-0.261814</td>\n",
       "      <td>-0.344099</td>\n",
       "      <td>-0.928432</td>\n",
       "      <td>0.831916</td>\n",
       "      <td>-0.717386</td>\n",
       "      <td>-1.003076</td>\n",
       "      <td>1.927426</td>\n",
       "      <td>-0.363477</td>\n",
       "    </tr>\n",
       "    <tr>\n",
       "      <th>1</th>\n",
       "      <td>-1.028131</td>\n",
       "      <td>-0.145141</td>\n",
       "      <td>-1.188197</td>\n",
       "      <td>0.020832</td>\n",
       "      <td>0.075603</td>\n",
       "      <td>0.548678</td>\n",
       "      <td>-0.527238</td>\n",
       "      <td>-0.623868</td>\n",
       "    </tr>\n",
       "    <tr>\n",
       "      <th>2</th>\n",
       "      <td>3.840496</td>\n",
       "      <td>-0.149712</td>\n",
       "      <td>-2.134635</td>\n",
       "      <td>2.927860</td>\n",
       "      <td>5.204590</td>\n",
       "      <td>3.441360</td>\n",
       "      <td>0.535006</td>\n",
       "      <td>-3.879734</td>\n",
       "    </tr>\n",
       "    <tr>\n",
       "      <th>3</th>\n",
       "      <td>-0.796669</td>\n",
       "      <td>0.564763</td>\n",
       "      <td>-0.564929</td>\n",
       "      <td>0.717638</td>\n",
       "      <td>-0.716902</td>\n",
       "      <td>0.761882</td>\n",
       "      <td>-0.405243</td>\n",
       "      <td>0.009602</td>\n",
       "    </tr>\n",
       "    <tr>\n",
       "      <th>4</th>\n",
       "      <td>-0.003712</td>\n",
       "      <td>-1.132790</td>\n",
       "      <td>-0.116376</td>\n",
       "      <td>-1.883286</td>\n",
       "      <td>-0.126987</td>\n",
       "      <td>-1.175654</td>\n",
       "      <td>-0.240027</td>\n",
       "      <td>0.449612</td>\n",
       "    </tr>\n",
       "  </tbody>\n",
       "</table>\n",
       "</div>"
      ],
      "text/plain": [
       "        PC1       PC2       PC3       PC4       PC5       PC6       PC7  \\\n",
       "0 -0.261814 -0.344099 -0.928432  0.831916 -0.717386 -1.003076  1.927426   \n",
       "1 -1.028131 -0.145141 -1.188197  0.020832  0.075603  0.548678 -0.527238   \n",
       "2  3.840496 -0.149712 -2.134635  2.927860  5.204590  3.441360  0.535006   \n",
       "3 -0.796669  0.564763 -0.564929  0.717638 -0.716902  0.761882 -0.405243   \n",
       "4 -0.003712 -1.132790 -0.116376 -1.883286 -0.126987 -1.175654 -0.240027   \n",
       "\n",
       "        PC8  \n",
       "0 -0.363477  \n",
       "1 -0.623868  \n",
       "2 -3.879734  \n",
       "3  0.009602  \n",
       "4  0.449612  "
      ]
     },
     "execution_count": 34,
     "metadata": {},
     "output_type": "execute_result"
    }
   ],
   "source": [
    "## Using dimensions obtained from PCA to apply clustering (i.e., 8)\n",
    "\n",
    "pca = PCA(n_components = 8)\n",
    "\n",
    "pca_df = pd.DataFrame(pca.fit_transform(scaled_features_df), columns=['PC1','PC2','PC3','PC4','PC5','PC6','PC7','PC8'])\n",
    "pca_df.head()"
   ]
  },
  {
   "cell_type": "code",
   "execution_count": 35,
   "id": "13c2bfb8",
   "metadata": {},
   "outputs": [],
   "source": [
    "## Finding optimal K value by KMeans clustering using Elbow plot\n",
    "\n",
    "cluster_errors = []\n",
    "cluster_range = range(2,15)\n",
    "\n",
    "for num_cluster in cluster_range:\n",
    "    clusters = KMeans(num_cluster, random_state=100)\n",
    "    clusters.fit(pca_df)\n",
    "    cluster_errors.append(clusters.inertia_)\n"
   ]
  },
  {
   "cell_type": "code",
   "execution_count": 36,
   "id": "0cab606a",
   "metadata": {},
   "outputs": [
    {
     "data": {
      "image/png": "[encoded data removed]",
      "text/plain": [
       "<Figure size 1500x500 with 1 Axes>"
      ]
     },
     "metadata": {},
     "output_type": "display_data"
    }
   ],
   "source": [
    "## creating a dataframe of number of clusters and cluster errors\n",
    "\n",
    "cluster_df = pd.DataFrame({'num_cluster': cluster_range, 'cluster_errors': cluster_errors})\n",
    "\n",
    "\n",
    "## Elbow plot\n",
    "plt.figure(figsize=[15,5])\n",
    "plt.plot(cluster_df['num_cluster'], cluster_df['cluster_errors'], marker='o', color='b')\n",
    "plt.show()"
   ]
  },
  {
   "cell_type": "markdown",
   "id": "f55de5cf",
   "metadata": {},
   "source": [
    "- From the above Elbow plot, it is observed that at cluster K=2, the inertia descreases significantly\n",
    "- Hence we are selecting the optimal cluster value as K=2"
   ]
  },
  {
   "cell_type": "code",
   "execution_count": 37,
   "id": "4f261084",
   "metadata": {},
   "outputs": [
    {
     "data": {
      "text/html": [
       "<style>#sk-container-id-1 {color: black;}#sk-container-id-1 pre{padding: 0;}#sk-container-id-1 div.sk-toggleable {background-color: white;}#sk-container-id-1 label.sk-toggleable__label {cursor: pointer;display: block;width: 100%;margin-bottom: 0;padding: 0.3em;box-sizing: border-box;text-align: center;}#sk-container-id-1 label.sk-toggleable__label-arrow:before {content: \"▸\";float: left;margin-right: 0.25em;color: #696969;}#sk-container-id-1 label.sk-toggleable__label-arrow:hover:before {color: black;}#sk-container-id-1 div.sk-estimator:hover label.sk-toggleable__label-arrow:before {color: black;}#sk-container-id-1 div.sk-toggleable__content {max-height: 0;max-width: 0;overflow: hidden;text-align: left;background-color: #f0f8ff;}#sk-container-id-1 div.sk-toggleable__content pre {margin: 0.2em;color: black;border-radius: 0.25em;background-color: #f0f8ff;}#sk-container-id-1 input.sk-toggleable__control:checked~div.sk-toggleable__content {max-height: 200px;max-width: 100%;overflow: auto;}#sk-container-id-1 input.sk-toggleable__control:checked~label.sk-toggleable__label-arrow:before {content: \"▾\";}#sk-container-id-1 div.sk-estimator input.sk-toggleable__control:checked~label.sk-toggleable__label {background-color: #d4ebff;}#sk-container-id-1 div.sk-label input.sk-toggleable__control:checked~label.sk-toggleable__label {background-color: #d4ebff;}#sk-container-id-1 input.sk-hidden--visually {border: 0;clip: rect(1px 1px 1px 1px);clip: rect(1px, 1px, 1px, 1px);height: 1px;margin: -1px;overflow: hidden;padding: 0;position: absolute;width: 1px;}#sk-container-id-1 div.sk-estimator {font-family: monospace;background-color: #f0f8ff;border: 1px dotted black;border-radius: 0.25em;box-sizing: border-box;margin-bottom: 0.5em;}#sk-container-id-1 div.sk-estimator:hover {background-color: #d4ebff;}#sk-container-id-1 div.sk-parallel-item::after {content: \"\";width: 100%;border-bottom: 1px solid gray;flex-grow: 1;}#sk-container-id-1 div.sk-label:hover label.sk-toggleable__label {background-color: #d4ebff;}#sk-container-id-1 div.sk-serial::before {content: \"\";position: absolute;border-left: 1px solid gray;box-sizing: border-box;top: 0;bottom: 0;left: 50%;z-index: 0;}#sk-container-id-1 div.sk-serial {display: flex;flex-direction: column;align-items: center;background-color: white;padding-right: 0.2em;padding-left: 0.2em;position: relative;}#sk-container-id-1 div.sk-item {position: relative;z-index: 1;}#sk-container-id-1 div.sk-parallel {display: flex;align-items: stretch;justify-content: center;background-color: white;position: relative;}#sk-container-id-1 div.sk-item::before, #sk-container-id-1 div.sk-parallel-item::before {content: \"\";position: absolute;border-left: 1px solid gray;box-sizing: border-box;top: 0;bottom: 0;left: 50%;z-index: -1;}#sk-container-id-1 div.sk-parallel-item {display: flex;flex-direction: column;z-index: 1;position: relative;background-color: white;}#sk-container-id-1 div.sk-parallel-item:first-child::after {align-self: flex-end;width: 50%;}#sk-container-id-1 div.sk-parallel-item:last-child::after {align-self: flex-start;width: 50%;}#sk-container-id-1 div.sk-parallel-item:only-child::after {width: 0;}#sk-container-id-1 div.sk-dashed-wrapped {border: 1px dashed gray;margin: 0 0.4em 0.5em 0.4em;box-sizing: border-box;padding-bottom: 0.4em;background-color: white;}#sk-container-id-1 div.sk-label label {font-family: monospace;font-weight: bold;display: inline-block;line-height: 1.2em;}#sk-container-id-1 div.sk-label-container {text-align: center;}#sk-container-id-1 div.sk-container {/* jupyter's `normalize.less` sets `[hidden] { display: none; }` but bootstrap.min.css set `[hidden] { display: none !important; }` so we also need the `!important` here to be able to override the default hidden behavior on the sphinx rendered scikit-learn.org. See: https://github.com/scikit-learn/scikit-learn/issues/21755 */display: inline-block !important;position: relative;}#sk-container-id-1 div.sk-text-repr-fallback {display: none;}</style><div id=\"sk-container-id-1\" class=\"sk-top-container\"><div class=\"sk-text-repr-fallback\"><pre>KMeans(n_clusters=2, random_state=100)</pre><b>In a Jupyter environment, please rerun this cell to show the HTML representation or trust the notebook. <br />On GitHub, the HTML representation is unable to render, please try loading this page with nbviewer.org.</b></div><div class=\"sk-container\" hidden><div class=\"sk-item\"><div class=\"sk-estimator sk-toggleable\"><input class=\"sk-toggleable__control sk-hidden--visually\" id=\"sk-estimator-id-1\" type=\"checkbox\" checked><label for=\"sk-estimator-id-1\" class=\"sk-toggleable__label sk-toggleable__label-arrow\">KMeans</label><div class=\"sk-toggleable__content\"><pre>KMeans(n_clusters=2, random_state=100)</pre></div></div></div></div></div>"
      ],
      "text/plain": [
       "KMeans(n_clusters=2, random_state=100)"
      ]
     },
     "execution_count": 37,
     "metadata": {},
     "output_type": "execute_result"
    }
   ],
   "source": [
    "## Applying KMeans clustering for optimal number of cluster obtained (K=2)\n",
    "\n",
    "kmeans = KMeans(n_clusters=2, random_state=100)\n",
    "kmeans.fit(pca_df)"
   ]
  },
  {
   "cell_type": "code",
   "execution_count": 38,
   "id": "9a44895c",
   "metadata": {},
   "outputs": [
    {
     "data": {
      "text/html": [
       "<div>\n",
       "<style scoped>\n",
       "    .dataframe tbody tr th:only-of-type {\n",
       "        vertical-align: middle;\n",
       "    }\n",
       "\n",
       "    .dataframe tbody tr th {\n",
       "        vertical-align: top;\n",
       "    }\n",
       "\n",
       "    .dataframe thead th {\n",
       "        text-align: right;\n",
       "    }\n",
       "</style>\n",
       "<table border=\"1\" class=\"dataframe\">\n",
       "  <thead>\n",
       "    <tr style=\"text-align: right;\">\n",
       "      <th></th>\n",
       "      <th>PC1</th>\n",
       "      <th>PC2</th>\n",
       "      <th>PC3</th>\n",
       "      <th>PC4</th>\n",
       "      <th>PC5</th>\n",
       "      <th>PC6</th>\n",
       "      <th>PC7</th>\n",
       "      <th>PC8</th>\n",
       "      <th>Label</th>\n",
       "    </tr>\n",
       "  </thead>\n",
       "  <tbody>\n",
       "    <tr>\n",
       "      <th>0</th>\n",
       "      <td>-0.261814</td>\n",
       "      <td>-0.344099</td>\n",
       "      <td>-0.928432</td>\n",
       "      <td>0.831916</td>\n",
       "      <td>-0.717386</td>\n",
       "      <td>-1.003076</td>\n",
       "      <td>1.927426</td>\n",
       "      <td>-0.363477</td>\n",
       "      <td>0</td>\n",
       "    </tr>\n",
       "    <tr>\n",
       "      <th>1</th>\n",
       "      <td>-1.028131</td>\n",
       "      <td>-0.145141</td>\n",
       "      <td>-1.188197</td>\n",
       "      <td>0.020832</td>\n",
       "      <td>0.075603</td>\n",
       "      <td>0.548678</td>\n",
       "      <td>-0.527238</td>\n",
       "      <td>-0.623868</td>\n",
       "      <td>0</td>\n",
       "    </tr>\n",
       "    <tr>\n",
       "      <th>2</th>\n",
       "      <td>3.840496</td>\n",
       "      <td>-0.149712</td>\n",
       "      <td>-2.134635</td>\n",
       "      <td>2.927860</td>\n",
       "      <td>5.204590</td>\n",
       "      <td>3.441360</td>\n",
       "      <td>0.535006</td>\n",
       "      <td>-3.879734</td>\n",
       "      <td>1</td>\n",
       "    </tr>\n",
       "    <tr>\n",
       "      <th>3</th>\n",
       "      <td>-0.796669</td>\n",
       "      <td>0.564763</td>\n",
       "      <td>-0.564929</td>\n",
       "      <td>0.717638</td>\n",
       "      <td>-0.716902</td>\n",
       "      <td>0.761882</td>\n",
       "      <td>-0.405243</td>\n",
       "      <td>0.009602</td>\n",
       "      <td>0</td>\n",
       "    </tr>\n",
       "    <tr>\n",
       "      <th>4</th>\n",
       "      <td>-0.003712</td>\n",
       "      <td>-1.132790</td>\n",
       "      <td>-0.116376</td>\n",
       "      <td>-1.883286</td>\n",
       "      <td>-0.126987</td>\n",
       "      <td>-1.175654</td>\n",
       "      <td>-0.240027</td>\n",
       "      <td>0.449612</td>\n",
       "      <td>0</td>\n",
       "    </tr>\n",
       "  </tbody>\n",
       "</table>\n",
       "</div>"
      ],
      "text/plain": [
       "        PC1       PC2       PC3       PC4       PC5       PC6       PC7  \\\n",
       "0 -0.261814 -0.344099 -0.928432  0.831916 -0.717386 -1.003076  1.927426   \n",
       "1 -1.028131 -0.145141 -1.188197  0.020832  0.075603  0.548678 -0.527238   \n",
       "2  3.840496 -0.149712 -2.134635  2.927860  5.204590  3.441360  0.535006   \n",
       "3 -0.796669  0.564763 -0.564929  0.717638 -0.716902  0.761882 -0.405243   \n",
       "4 -0.003712 -1.132790 -0.116376 -1.883286 -0.126987 -1.175654 -0.240027   \n",
       "\n",
       "        PC8  Label  \n",
       "0 -0.363477      0  \n",
       "1 -0.623868      0  \n",
       "2 -3.879734      1  \n",
       "3  0.009602      0  \n",
       "4  0.449612      0  "
      ]
     },
     "execution_count": 38,
     "metadata": {},
     "output_type": "execute_result"
    }
   ],
   "source": [
    "## creating a dataframe of labels\n",
    "\n",
    "label = pd.DataFrame(kmeans.labels_, columns=['Label'])\n",
    "\n",
    "\n",
    "## joining the label dataframe to the pca_df dataframe\n",
    "\n",
    "kmeans_df = pca_df.join(label)\n",
    "kmeans_df.head()"
   ]
  },
  {
   "cell_type": "code",
   "execution_count": 39,
   "id": "a3ca44fc",
   "metadata": {},
   "outputs": [
    {
     "data": {
      "text/plain": [
       "Label\n",
       "0    153180\n",
       "1     39364\n",
       "Name: count, dtype: int64"
      ]
     },
     "execution_count": 39,
     "metadata": {},
     "output_type": "execute_result"
    }
   ],
   "source": [
    "kmeans_df['Label'].value_counts()"
   ]
  },
  {
   "cell_type": "code",
   "execution_count": 40,
   "id": "782fc6c0",
   "metadata": {},
   "outputs": [
    {
     "ename": "TypeError",
     "evalue": "scatterplot() got multiple values for argument 'data'",
     "output_type": "error",
     "traceback": [
      "\u001b[1;31m---------------------------------------------------------------------------\u001b[0m",
      "\u001b[1;31mTypeError\u001b[0m                                 Traceback (most recent call last)",
      "Cell \u001b[1;32mIn[40], line 3\u001b[0m\n\u001b[0;32m      1\u001b[0m \u001b[38;5;66;03m## visalizing the clusters formed \u001b[39;00m\n\u001b[1;32m----> 3\u001b[0m sns\u001b[38;5;241m.\u001b[39mscatterplot(kmeans_df[\u001b[38;5;124m'\u001b[39m\u001b[38;5;124mPC1\u001b[39m\u001b[38;5;124m'\u001b[39m], kmeans_df[\u001b[38;5;124m'\u001b[39m\u001b[38;5;124mPC2\u001b[39m\u001b[38;5;124m'\u001b[39m], hue\u001b[38;5;241m=\u001b[39m\u001b[38;5;124m'\u001b[39m\u001b[38;5;124mLabel\u001b[39m\u001b[38;5;124m'\u001b[39m, data\u001b[38;5;241m=\u001b[39mkmeans_df)\n\u001b[0;32m      4\u001b[0m plt\u001b[38;5;241m.\u001b[39mshow()\n",
      "\u001b[1;31mTypeError\u001b[0m: scatterplot() got multiple values for argument 'data'"
     ]
    }
   ],
   "source": [
    "## visalizing the clusters formed \n",
    "\n",
    "sns.scatterplot(kmeans_df['PC1'], kmeans_df['PC2'], hue='Label', data=kmeans_df)\n",
    "plt.show()"
   ]
  },
  {
   "cell_type": "code",
   "execution_count": null,
   "id": "f2e8000d",
   "metadata": {},
   "outputs": [],
   "source": [
    "## Compute silhouette score for evaluating the quality of the K Means clustering technique.\n",
    "\n",
    "from sklearn.metrics import silhouette_score\n",
    "\n",
    "kmeans_score = []\n",
    "\n",
    "for i in range(2,15):\n",
    "    kmeans = KMeans(n_clusters = i)\n",
    "    kmeans = kmeans.fit(pca_df)\n",
    "    labels = kmeans.predict(pca_df)\n",
    "    print(i, silhouette_score(pca_df, labels))"
   ]
  },
  {
   "cell_type": "code",
   "execution_count": null,
   "id": "4653f66d",
   "metadata": {},
   "outputs": [],
   "source": [
    "## for 30000 sample data only\n",
    "\n",
    "## Compute silhouette score for evaluating the quality of the K Means clustering technique.\n",
    "\n",
    "kmeans_score1 = []\n",
    "\n",
    "for i in range(2,15):\n",
    "    kmeans_1 = KMeans(n_clusters = i)\n",
    "    kmeans_1 = kmeans_1.fit(pca_df.head(30000))\n",
    "    labels_1 = kmeans_1.predict(pca_df.head(30000))\n",
    "    print(i, silhouette_score(pca_df.head(30000), labels_1))"
   ]
  },
  {
   "cell_type": "markdown",
   "id": "b2533143",
   "metadata": {},
   "source": [
    " - We have obtained the Silhoutte scores for various clusters. Further, it is observed from the above Silhoutte score, that the score is highest for cluster 2.\n",
    " - So we choose K=2 as the optimal cluster size in K Means clustering technique using the original scaled datasheet"
   ]
  },
  {
   "cell_type": "markdown",
   "id": "03c56f5e",
   "metadata": {},
   "source": [
    "### 16. Apply Agglomerative clustering and segment the data. (You may use original data or PCA transformed data)\n",
    "    a. Find the optimal K Value using dendrogram for Agglomerative clustering.\n",
    "    b. Build a Agglomerative clustering model using the obtained optimal K value observed from dendrogram.\n",
    "    c. Compute silhouette score for evaluating the quality of the Agglomerative clustering technique. \n",
    "    (Hint: Take a sample of the dataset for agglomerative clustering to reduce the computational time)"
   ]
  },
  {
   "cell_type": "code",
   "execution_count": null,
   "id": "6f4fea09",
   "metadata": {},
   "outputs": [],
   "source": [
    "## Considering a sample dataset of 30000 records only to simplify the computation\n",
    "\n",
    "scaled_features_sample = scaled_features[:30000,:]\n",
    "print('Shape of scaled_features of the complete dataset: ', scaled_features.shape)\n",
    "print('Shape of scaled_features of the sample dataset: ', scaled_features_sample.shape)"
   ]
  },
  {
   "cell_type": "code",
   "execution_count": null,
   "id": "2622bc50",
   "metadata": {},
   "outputs": [],
   "source": [
    "## Agglomerative clustering using original data :: sample dataset of 30000 records\n",
    "\n",
    "plt.figure(figsize=[18,8])\n",
    "merg = linkage(scaled_features_sample, method='ward')\n",
    "dendrogram(merg, leaf_rotation=90)\n",
    "plt.xlabel('Data points')\n",
    "plt.ylabel('Euclidian distance')\n",
    "plt.title('Dendrogram')\n",
    "plt.show()"
   ]
  },
  {
   "cell_type": "code",
   "execution_count": null,
   "id": "ff1fab31",
   "metadata": {},
   "outputs": [],
   "source": [
    "## Building hierarchical clustering model using the optimal clusters as 2 for the sample dataset (30000 records)\n",
    "\n",
    "hie_cluster = AgglomerativeClustering(n_clusters=2, affinity='euclidean', linkage='ward')\n",
    "hie_cluster_model = hie_cluster.fit(pca_df.head(30000))"
   ]
  },
  {
   "cell_type": "code",
   "execution_count": null,
   "id": "d9c05c02",
   "metadata": {},
   "outputs": [],
   "source": [
    "## Creating a dataframe of the labels\n",
    "\n",
    "df_label = pd.DataFrame(hie_cluster_model.labels_, columns=['Labels'])\n",
    "df_label.head()"
   ]
  },
  {
   "cell_type": "code",
   "execution_count": null,
   "id": "bd161d09",
   "metadata": {},
   "outputs": [],
   "source": [
    "## Joining the label dataframes with unscaled initial cleaned dataframe (df_label)\n",
    "\n",
    "df_hier = data_df.join(df_label)\n",
    "df_hier.head()"
   ]
  },
  {
   "cell_type": "code",
   "execution_count": null,
   "id": "f8b111aa",
   "metadata": {},
   "outputs": [],
   "source": [
    "## Computing Silhoutte score from Agglomerative clustering\n",
    "\n",
    "scaled_features_df_sample = scaled_features_df.head(30000)\n",
    "\n",
    "for i in range(2,15):\n",
    "    hier = AgglomerativeClustering(n_clusters = i)\n",
    "    hier = hier.fit(scaled_features_df_sample)\n",
    "    labels = hier.fit_predict(scaled_features_df_sample)\n",
    "    print(i, silhouette_score(scaled_features_df_sample, labels))"
   ]
  },
  {
   "cell_type": "markdown",
   "id": "8483ff15",
   "metadata": {},
   "source": [
    " - We have obtained the Silhoutte scores for varios clusters. Further, it is observed from the above Silhoutte score, that the score is highest for cluster 3.\n",
    " - We obtain the optimal cluster size as K=3 for the considered sample subset of our original dataset in Agglomerative clustering model\n",
    " - But we choose K=2 as the optimal cluster size and built an Agglomerative clustering model using the original scaled datasheet (considering the entire dataset - where decrease in inertia is clearly steeply visible)"
   ]
  },
  {
   "cell_type": "markdown",
   "id": "c2dacab7",
   "metadata": {},
   "source": [
    "## <font color='blue'> Conclusion </font>"
   ]
  },
  {
   "cell_type": "markdown",
   "id": "3c589d19",
   "metadata": {},
   "source": [
    "### 17. Perform cluster analysis by doing bivariate analysis between cluster labels and different features and write your conclusion on the results."
   ]
  },
  {
   "cell_type": "code",
   "execution_count": null,
   "id": "aacf049f",
   "metadata": {},
   "outputs": [],
   "source": [
    "## Visualization and Interpretation of results\n",
    "\n",
    "sns.barplot(df_hier['Labels'],df_hier['fit'])\n",
    "plt.show()"
   ]
  },
  {
   "cell_type": "code",
   "execution_count": null,
   "id": "39fc6d72",
   "metadata": {},
   "outputs": [],
   "source": [
    "sns.barplot(df_hier['Labels'],df_hier['weight'])\n",
    "plt.show()"
   ]
  },
  {
   "cell_type": "code",
   "execution_count": null,
   "id": "3042721e",
   "metadata": {},
   "outputs": [],
   "source": [
    "sns.barplot(df_hier['Labels'],df_hier['rating'])\n",
    "plt.show()"
   ]
  },
  {
   "cell_type": "code",
   "execution_count": null,
   "id": "f92a6df9",
   "metadata": {},
   "outputs": [],
   "source": [
    "sns.barplot(df_hier['Labels'],df_hier['rented for'])\n",
    "plt.show()"
   ]
  },
  {
   "cell_type": "code",
   "execution_count": null,
   "id": "cf8115f8",
   "metadata": {},
   "outputs": [],
   "source": [
    "sns.barplot(df_hier['Labels'],df_hier['body type'])\n",
    "plt.show()"
   ]
  },
  {
   "cell_type": "code",
   "execution_count": null,
   "id": "efadd76c",
   "metadata": {},
   "outputs": [],
   "source": [
    "sns.barplot(df_hier['Labels'],df_hier['category'])\n",
    "plt.show()"
   ]
  },
  {
   "cell_type": "code",
   "execution_count": null,
   "id": "b384b7e7",
   "metadata": {},
   "outputs": [],
   "source": [
    "sns.barplot(df_hier['Labels'],df_hier['height'])\n",
    "plt.show()"
   ]
  },
  {
   "cell_type": "code",
   "execution_count": null,
   "id": "24e2c590",
   "metadata": {},
   "outputs": [],
   "source": [
    "sns.barplot(df_hier['Labels'],df_hier['age'])\n",
    "plt.show()"
   ]
  },
  {
   "cell_type": "code",
   "execution_count": null,
   "id": "4cebb191",
   "metadata": {},
   "outputs": [],
   "source": [
    "sns.barplot(df_hier['Labels'],df_hier['size'])\n",
    "plt.show()"
   ]
  },
  {
   "cell_type": "markdown",
   "id": "09bb0764",
   "metadata": {},
   "source": [
    "#### Inferences:\n",
    "- Customers from cluster-0 are found with maximum fitting than cluster-1\n",
    "- Height, Rented-for category and Rating of customers in Cluster-0 and Cluster-1 are almost the same/ equal\n",
    "- Highly weighing customers are found in Cluster-0 whereas Cluster-1 has low weight customers\n",
    "- Cluster-0 has most people with higher age category\n",
    "- Cluster-1 has customers who demand for most varied sizes \n"
   ]
  },
  {
   "cell_type": "markdown",
   "id": "b52de600",
   "metadata": {},
   "source": [
    "## Thank You!"
   ]
  }
 ],
 "metadata": {
  "kernelspec": {
   "display_name": "Python 3 (ipykernel)",
   "language": "python",
   "name": "python3"
  },
  "language_info": {
   "codemirror_mode": {
    "name": "ipython",
    "version": 3
   },
   "file_extension": ".py",
   "mimetype": "text/x-python",
   "name": "python",
   "nbconvert_exporter": "python",
   "pygments_lexer": "ipython3",
   "version": "3.11.5"
  }
 },
 "nbformat": 4,
 "nbformat_minor": 5
}
